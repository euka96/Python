{
 "metadata": {
  "language_info": {
   "codemirror_mode": {
    "name": "ipython",
    "version": 3
   },
   "file_extension": ".py",
   "mimetype": "text/x-python",
   "name": "python",
   "nbconvert_exporter": "python",
   "pygments_lexer": "ipython3",
   "version": "3.8.8"
  },
  "orig_nbformat": 2,
  "kernelspec": {
   "name": "python388jvsc74a57bd094be3c0045a496f1db0f6c0933821dfb1f75d678fefa7c30ef8ba447fd697bda",
   "display_name": "Python 3.8.8 64-bit ('base': conda)"
  },
  "metadata": {
   "interpreter": {
    "hash": "94be3c0045a496f1db0f6c0933821dfb1f75d678fefa7c30ef8ba447fd697bda"
   }
  }
 },
 "nbformat": 4,
 "nbformat_minor": 2,
 "cells": [
  {
   "source": [
    "4. 리스트의 이해"
   ],
   "cell_type": "markdown",
   "metadata": {}
  },
  {
   "cell_type": "code",
   "execution_count": 93,
   "metadata": {},
   "outputs": [],
   "source": [
    "# 다양한 타입\n",
    "colours = [\"red\", \"green\", \"blue\", 0xffffff]"
   ]
  },
  {
   "source": [
    "⭐️⭐️⭐️️️️️️️️ 인덱싱"
   ],
   "cell_type": "markdown",
   "metadata": {}
  },
  {
   "source": [
    "colours[0], colours[-4]"
   ],
   "cell_type": "code",
   "metadata": {},
   "execution_count": 94,
   "outputs": [
    {
     "output_type": "execute_result",
     "data": {
      "text/plain": [
       "('red', 'red')"
      ]
     },
     "metadata": {},
     "execution_count": 94
    }
   ]
  },
  {
   "cell_type": "code",
   "execution_count": 95,
   "metadata": {},
   "outputs": [
    {
     "output_type": "execute_result",
     "data": {
      "text/plain": [
       "('blue', 'blue')"
      ]
     },
     "metadata": {},
     "execution_count": 95
    }
   ],
   "source": [
    "colours[2], colours[-2]"
   ]
  },
  {
   "cell_type": "code",
   "execution_count": 96,
   "metadata": {},
   "outputs": [
    {
     "output_type": "stream",
     "name": "stdout",
     "text": [
      "red\nblue\n4\n"
     ]
    }
   ],
   "source": [
    "print(colours[0])\n",
    "print(colours[2])\n",
    "print(len(colours))"
   ]
  },
  {
   "source": [
    "# Slicing 슬라이싱 | 0과 -1은 생략 가능\n",
    "cities = [\"서울\", \"부산\", \"인천\", \"대구\", \"대전\", \"광주\", \"울산\", \"세종\"]\n",
    "print(cities[0:3])\n",
    "print(cities[:3])\n",
    "print(cities[:5], cities[5:-1], cities[1:-3], cities[5:])\n",
    "print(cities[::2])     # 시작:끝:증가분\n",
    "print(cities[7:5:-1])\n",
    "print(cities[-10:10])\n",
    "print(cities[7:5])\n",
    "print(cities[::-1])"
   ],
   "cell_type": "code",
   "metadata": {},
   "execution_count": 97,
   "outputs": [
    {
     "output_type": "stream",
     "name": "stdout",
     "text": [
      "['서울', '부산', '인천']\n['서울', '부산', '인천']\n['서울', '부산', '인천', '대구', '대전'] ['광주', '울산'] ['부산', '인천', '대구', '대전'] ['광주', '울산', '세종']\n['서울', '인천', '대전', '울산']\n['세종', '울산']\n['서울', '부산', '인천', '대구', '대전', '광주', '울산', '세종']\n[]\n['세종', '울산', '광주', '대전', '대구', '인천', '부산', '서울']\n"
     ]
    }
   ]
  },
  {
   "cell_type": "code",
   "execution_count": 98,
   "metadata": {},
   "outputs": [
    {
     "output_type": "stream",
     "name": "stdout",
     "text": [
      "3\n"
     ]
    },
    {
     "output_type": "execute_result",
     "data": {
      "text/plain": [
       "['red', 'green', 'blue', 'orange', 'black', 'white']"
      ]
     },
     "metadata": {},
     "execution_count": 98
    }
   ],
   "source": [
    "colour1 = [\"red\", \"green\", \"blue\"]\n",
    "colour2 = [\"orange\", \"black\", \"white\"]\n",
    "print(len(colour1))\n",
    "new_colour = colour1 + colour2; new_colour"
   ]
  },
  {
   "cell_type": "code",
   "execution_count": 99,
   "metadata": {},
   "outputs": [
    {
     "output_type": "execute_result",
     "data": {
      "text/plain": [
       "['red', 'green', 'blue', 'red', 'green', 'blue']"
      ]
     },
     "metadata": {},
     "execution_count": 99
    }
   ],
   "source": [
    "colour1 * 2 # 반복"
   ]
  },
  {
   "cell_type": "code",
   "execution_count": 100,
   "metadata": {},
   "outputs": [
    {
     "output_type": "execute_result",
     "data": {
      "text/plain": [
       "(True, False, True)"
      ]
     },
     "metadata": {},
     "execution_count": 100
    }
   ],
   "source": [
    "\"red\" in colour1, \"red\" in colour2, \"red\" not in colour2"
   ]
  },
  {
   "source": [
    "리스트의 추가 및 삭제"
   ],
   "cell_type": "markdown",
   "metadata": {}
  },
  {
   "source": [
    "# append() 리스트 맨 끝에 새로운 값을 추가\n",
    "colour = [\"red\", \"green\", \"blue\"]\n",
    "colour.append(\"white\")\n",
    "colour"
   ],
   "cell_type": "code",
   "metadata": {},
   "execution_count": 101,
   "outputs": [
    {
     "output_type": "execute_result",
     "data": {
      "text/plain": [
       "['red', 'green', 'blue', 'white']"
      ]
     },
     "metadata": {},
     "execution_count": 101
    }
   ]
  },
  {
   "cell_type": "code",
   "execution_count": 103,
   "metadata": {},
   "outputs": [
    {
     "output_type": "stream",
     "name": "stdout",
     "text": [
      "['H', 'e', 'l', 'l', 'o', ' ', 'W', 'o', 'r', 'l', 'd']\n"
     ]
    },
    {
     "output_type": "execute_result",
     "data": {
      "text/plain": [
       "['H', 'e', 'l', 'l', 'o', ' ', 'W', 'o', 'r', 'l', 'd']"
      ]
     },
     "metadata": {},
     "execution_count": 103
    }
   ],
   "source": [
    "results = list()\n",
    "for s in \"Hello World\":\n",
    "    results.append(s)\n",
    "print(results)\n",
    "x = [s for s in \"Hello World\"]\n",
    "x"
   ]
  },
  {
   "cell_type": "code",
   "execution_count": 104,
   "metadata": {},
   "outputs": [
    {
     "output_type": "execute_result",
     "data": {
      "text/plain": [
       "5050"
      ]
     },
     "metadata": {},
     "execution_count": 104
    }
   ],
   "source": [
    "sum = 0\n",
    "for i in range(101):\n",
    "    sum += i\n",
    "sum"
   ]
  },
  {
   "source": [
    "# extend() 리스트 끝에 새로운 리스트 추가\n",
    "colour = [\"red\", \"green\", \"blue\"]\n",
    "colour.extend([\"black\", \"purple\"])\n",
    "colour"
   ],
   "cell_type": "code",
   "metadata": {},
   "execution_count": 105,
   "outputs": [
    {
     "output_type": "execute_result",
     "data": {
      "text/plain": [
       "['red', 'green', 'blue', 'black', 'purple']"
      ]
     },
     "metadata": {},
     "execution_count": 105
    }
   ]
  },
  {
   "source": [
    "# insert() 리스트 특정 위치에 값을 추가\n",
    "dir(colour) # dir() | 사용할수 있는 함수\n",
    "colour.insert(0, \"orange\") # insert(위치, 추가하려는 값)\n",
    "colour"
   ],
   "cell_type": "code",
   "metadata": {},
   "execution_count": 106,
   "outputs": [
    {
     "output_type": "execute_result",
     "data": {
      "text/plain": [
       "['orange', 'red', 'green', 'blue', 'black', 'purple']"
      ]
     },
     "metadata": {},
     "execution_count": 106
    }
   ]
  },
  {
   "source": [
    "# remove() 리스트의 특정 값 제거\n",
    "colour.remove(\"orange\")\n",
    "print(colour)\n",
    "colour.remove(colour[-1])\n",
    "print(colour)\n",
    "del colour[-1]\n",
    "print(colour)"
   ],
   "cell_type": "code",
   "metadata": {},
   "execution_count": 107,
   "outputs": [
    {
     "output_type": "stream",
     "name": "stdout",
     "text": [
      "['red', 'green', 'blue', 'black', 'purple']\n['red', 'green', 'blue', 'black']\n['red', 'green', 'blue']\n"
     ]
    }
   ]
  },
  {
   "cell_type": "code",
   "execution_count": 3,
   "metadata": {},
   "outputs": [
    {
     "output_type": "execute_result",
     "data": {
      "text/plain": [
       "['red', 'green', 'purple']"
      ]
     },
     "metadata": {},
     "execution_count": 3
    }
   ],
   "source": [
    "# 리스트 값 변경\n",
    "colour[2] = \"purple\"\n",
    "colour"
   ]
  },
  {
   "cell_type": "code",
   "execution_count": 8,
   "metadata": {},
   "outputs": [
    {
     "output_type": "stream",
     "name": "stdout",
     "text": [
      "['green', 'purple', 'red']\n['red', 'purple', 'green']\n"
     ]
    }
   ],
   "source": [
    "# sort() 순서 정렬 / ascii 순서\n",
    "colour.sort()\n",
    "print(colour)\n",
    "colour.sort(reverse = True) # 내림차순\n",
    "print(colour)"
   ]
  },
  {
   "source": [
    "패킹, 언패킹"
   ],
   "cell_type": "markdown",
   "metadata": {}
  },
  {
   "cell_type": "code",
   "execution_count": 9,
   "metadata": {},
   "outputs": [
    {
     "output_type": "execute_result",
     "data": {
      "text/plain": [
       "(1, 2, 3)"
      ]
     },
     "metadata": {},
     "execution_count": 9
    }
   ],
   "source": [
    "t = [1, 2, 3]\n",
    "a, b, c = t\n",
    "a, b, c # 튜플 패킹"
   ]
  },
  {
   "source": [
    "2차원 리스트"
   ],
   "cell_type": "markdown",
   "metadata": {}
  },
  {
   "cell_type": "code",
   "execution_count": 20,
   "metadata": {},
   "outputs": [
    {
     "output_type": "stream",
     "name": "stdout",
     "text": [
      "[[49, 79, 20, 100], [43, 59, 85, 30, 90], [49, 79, 48, 60, 100]]\n[49, 79, 20, 100]\n30\n[[43, 59, 85, 30, 90], [49, 79, 48, 60, 100]]\n[]\n[[49, 79, 20, 100], [43, 59, 85, 30, 90], [49, 79, 48, 60, 100]]\n[[49, 79, 20, 100], [43, 59, 85, 30, 90], [49, 79, 48, 60, 100]]\n"
     ]
    }
   ],
   "source": [
    "kor = [49, 79, 20, 100]\n",
    "math = [43, 59, 85, 30, 90]\n",
    "eng = [49, 79, 48, 60, 100]\n",
    "score = [kor, math, eng]\n",
    "print(score)\n",
    "print(score[0])\n",
    "print(score[1][3])\n",
    "print(score[1:])\n",
    "print(score[1:][2:])\n",
    "print(score[0:][:3])\n",
    "print(score[:])"
   ]
  }
 ]
}
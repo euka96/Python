{
 "metadata": {
  "language_info": {
   "codemirror_mode": {
    "name": "ipython",
    "version": 3
   },
   "file_extension": ".py",
   "mimetype": "text/x-python",
   "name": "python",
   "nbconvert_exporter": "python",
   "pygments_lexer": "ipython3",
   "version": "3.8.8"
  },
  "orig_nbformat": 2,
  "kernelspec": {
   "name": "python388jvsc74a57bd094be3c0045a496f1db0f6c0933821dfb1f75d678fefa7c30ef8ba447fd697bda",
   "display_name": "Python 3.8.8 64-bit ('base': conda)"
  },
  "metadata": {
   "interpreter": {
    "hash": "94be3c0045a496f1db0f6c0933821dfb1f75d678fefa7c30ef8ba447fd697bda"
   }
  }
 },
 "nbformat": 4,
 "nbformat_minor": 2,
 "cells": [
  {
   "source": [
    "# 함수의 인수"
   ],
   "cell_type": "markdown",
   "metadata": {}
  },
  {
   "cell_type": "code",
   "execution_count": null,
   "metadata": {},
   "outputs": [],
   "source": [
    "positional argument                 위치 인수\n",
    "keyword argument                    키워드 인수\n",
    "default argument                    디폴트 인수\n",
    "variable-length argument            가변 인수\n",
    "keyword variable-length argument    키워드 가변 인수"
   ]
  },
  {
   "source": [
    "keyword argument"
   ],
   "cell_type": "markdown",
   "metadata": {}
  },
  {
   "cell_type": "code",
   "execution_count": 3,
   "metadata": {},
   "outputs": [
    {
     "output_type": "stream",
     "name": "stdout",
     "text": [
      "Hello stranger, my name is Eugene\nHello stranger, my name is Eugene\n"
     ]
    }
   ],
   "source": [
    "def name(my_name, your_name) :\n",
    "    print(f\"Hello {your_name}, my name is {my_name}\")\n",
    "\n",
    "name(\"Eugene\", \"stranger\")\n",
    "name(your_name = \"stranger\", my_name = \"Eugene\")"
   ]
  },
  {
   "source": [
    "default argument"
   ],
   "cell_type": "markdown",
   "metadata": {}
  },
  {
   "cell_type": "code",
   "execution_count": 5,
   "metadata": {},
   "outputs": [
    {
     "output_type": "stream",
     "name": "stdout",
     "text": [
      "Hello stranger, my name is Eugene\nHello stranger, my name is Eugene\n"
     ]
    }
   ],
   "source": [
    "def name2(my_name, your_name = \"stranger\") :\n",
    "    print(f\"Hello {your_name}, my name is {my_name}\")\n",
    "\n",
    "name2(\"Eugene\", \"stranger\")\n",
    "name2(\"Eugene\")"
   ]
  },
  {
   "source": [
    "variable-length argument"
   ],
   "cell_type": "markdown",
   "metadata": {}
  },
  {
   "cell_type": "code",
   "execution_count": 8,
   "metadata": {},
   "outputs": [
    {
     "output_type": "stream",
     "name": "stdout",
     "text": [
      "1\n3\n6\n10\n15\n"
     ]
    }
   ],
   "source": [
    "def summation(*args) :\n",
    "    return sum(args)\n",
    "\n",
    "print(summation(1))\n",
    "print(summation(1, 2))\n",
    "print(summation(1, 2, 3))\n",
    "print(summation(1, 2, 3, 4))\n",
    "print(summation(1, 2, 3, 4, 5))"
   ]
  },
  {
   "cell_type": "code",
   "execution_count": 10,
   "metadata": {},
   "outputs": [
    {
     "output_type": "stream",
     "name": "stdout",
     "text": [
      "3\n6\n10\n15\n"
     ]
    }
   ],
   "source": [
    "# args가 앞에 오면 절대로 안됨\n",
    "def sum1(a, b, *args) :\n",
    "    return a + b + sum(args)\n",
    "\n",
    "print(sum1(1, 2))\n",
    "print(sum1(1, 2, 3))\n",
    "print(sum1(1, 2, 3, 4))\n",
    "print(sum1(1, 2, 3, 4, 5))"
   ]
  },
  {
   "source": [
    "keyword variable-length argument"
   ],
   "cell_type": "markdown",
   "metadata": {}
  },
  {
   "source": [
    "- dictionary\n",
    "\n",
    "key와 value가 연결되어 있는 형태\n",
    "{key : value}"
   ],
   "cell_type": "markdown",
   "metadata": {}
  },
  {
   "cell_type": "code",
   "execution_count": 18,
   "metadata": {},
   "outputs": [
    {
     "output_type": "stream",
     "name": "stdout",
     "text": [
      "{'first': 3, 'second': 4, 'third': 5}\n3\n"
     ]
    }
   ],
   "source": [
    "def kwargs_test(**kwargs) :\n",
    "    print(kwargs)\n",
    "\n",
    "kwargs_test(first = 3, second = 4, third = 5)\n",
    "my_dict = {'first': 3, 'second': 4, 'third': 5}\n",
    "print(my_dict[\"first\"]) # my_dict.first 는 지원 안함"
   ]
  },
  {
   "cell_type": "code",
   "execution_count": 17,
   "metadata": {},
   "outputs": [
    {
     "output_type": "stream",
     "name": "stdout",
     "text": [
      "{'first': 3, 'second': 4, 'third': 5}\nfirst value is 3\n"
     ]
    }
   ],
   "source": [
    "def kwargs_test2(**kwargs) :\n",
    "    print(kwargs)\n",
    "    print(f\"first value is {kwargs['first']}\")\n",
    "\n",
    "kwargs_test2(first = 3, second = 4, third = 5)"
   ]
  },
  {
   "cell_type": "code",
   "execution_count": 21,
   "metadata": {},
   "outputs": [
    {
     "output_type": "stream",
     "name": "stdout",
     "text": [
      "{'first': 3, 'second': 4, 'third': 5}\nfirst value is 3\nsecond value is 4\nthird value is 5\n"
     ]
    }
   ],
   "source": [
    "def kwargs_test2(**kwargs) :\n",
    "    print(kwargs)\n",
    "    print(f\"first value is {kwargs['first']}\")\n",
    "    print(f\"second value is {kwargs['second']}\")\n",
    "    print(\"third value is {third}\".format(**kwargs)) # .format()은 파이썬 3.6 ver부터 사용\n",
    "\n",
    "kwargs_test2(first = 3, second = 4, third = 5)"
   ]
  }
 ]
}
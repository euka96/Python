{
 "metadata": {
  "language_info": {
   "codemirror_mode": {
    "name": "ipython",
    "version": 3
   },
   "file_extension": ".py",
   "mimetype": "text/x-python",
   "name": "python",
   "nbconvert_exporter": "python",
   "pygments_lexer": "ipython3",
   "version": "3.8.8"
  },
  "orig_nbformat": 2,
  "kernelspec": {
   "name": "python388jvsc74a57bd094be3c0045a496f1db0f6c0933821dfb1f75d678fefa7c30ef8ba447fd697bda",
   "display_name": "Python 3.8.8 64-bit ('base': conda)"
  },
  "metadata": {
   "interpreter": {
    "hash": "94be3c0045a496f1db0f6c0933821dfb1f75d678fefa7c30ef8ba447fd697bda"
   }
  }
 },
 "nbformat": 4,
 "nbformat_minor": 2,
 "cells": [
  {
   "source": [
    "지뢰 찾기"
   ],
   "cell_type": "markdown",
   "metadata": {}
  },
  {
   "cell_type": "code",
   "execution_count": 1,
   "metadata": {},
   "outputs": [],
   "source": [
    "def find_mine(c, r):\n",
    "    mine = 0\n",
    "    if matrix[c - 1][r - 1] == \"*\" :\n",
    "        mine += 1\n",
    "    if matrix[c - 1][r] == \"*\" :\n",
    "        mine += 1\n",
    "    if matrix[c - 1][r + 1] == \"*\" :\n",
    "        mine += 1\n",
    "    if matrix[c][r -1] == \"*\" :\n",
    "        mine += 1\n",
    "    if matrix[c][r + 1] == \"*\" :\n",
    "        mine += 1\n",
    "    if matrix[c + 1][r - 1] == \"*\" :\n",
    "        mine += 1\n",
    "    if matrix[c + 1][r] == \"*\" :\n",
    "        mine += 1\n",
    "    if matrix[c + 1][r + 1] == \"*\" :\n",
    "        mine += 1\n",
    "    return mine"
   ]
  },
  {
   "cell_type": "code",
   "execution_count": 2,
   "metadata": {},
   "outputs": [
    {
     "output_type": "stream",
     "name": "stdout",
     "text": [
      "01*21\n123*1\n2*532\n3***1\n*4*31\n"
     ]
    }
   ],
   "source": [
    "import numpy as np\n",
    "col, row = map(int, input().split())\n",
    "matrix = []\n",
    "new_matrix = []\n",
    "answer = []\n",
    "for i in range(row) :\n",
    "    matrix.append(list(input()))\n",
    "matrix = np.pad(matrix, ((1,1),(1,1)), 'constant', constant_values = '.')\n",
    "for c in range(1, col + 1) :\n",
    "    for r in range(1, row + 1) :\n",
    "        if matrix[c][r] == \".\" :\n",
    "            matrix[c][r] = find_mine(c, r)\n",
    "            new_matrix.append(matrix[c][r])\n",
    "        else :\n",
    "            new_matrix.append(matrix[c][r])\n",
    "for i in range(0, len(new_matrix), row) :\n",
    "    answer.append(new_matrix[i : i + row])\n",
    "for i in range(0, len(answer)) :\n",
    "    print(''.join(answer[i]))"
   ]
  }
 ]
}
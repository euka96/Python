{
 "metadata": {
  "language_info": {
   "codemirror_mode": {
    "name": "ipython",
    "version": 3
   },
   "file_extension": ".py",
   "mimetype": "text/x-python",
   "name": "python",
   "nbconvert_exporter": "python",
   "pygments_lexer": "ipython3",
   "version": "3.8.8"
  },
  "orig_nbformat": 2,
  "kernelspec": {
   "name": "python388jvsc74a57bd094be3c0045a496f1db0f6c0933821dfb1f75d678fefa7c30ef8ba447fd697bda",
   "display_name": "Python 3.8.8 64-bit ('base': conda)"
  },
  "metadata": {
   "interpreter": {
    "hash": "94be3c0045a496f1db0f6c0933821dfb1f75d678fefa7c30ef8ba447fd697bda"
   }
  }
 },
 "nbformat": 4,
 "nbformat_minor": 2,
 "cells": [
  {
   "source": [
    "## 2. 파일 다루기"
   ],
   "cell_type": "markdown",
   "metadata": {}
  },
  {
   "source": [
    "- 텍스트 파일 읽기 read()"
   ],
   "cell_type": "markdown",
   "metadata": {}
  },
  {
   "cell_type": "code",
   "execution_count": 1,
   "metadata": {},
   "outputs": [
    {
     "output_type": "stream",
     "name": "stdout",
     "text": [
      "I Have a Dream, a song to sing\nTo help me cope, with anything\nIf you see the wonder, of a fairy tale\nYou can take the future, even if you fail\n\nI believe in angels\nSomething good in everything I see\nI believe in angels\nWhen I know the time is right for me\nI'll cross the stream, I Have a Dream\n\n"
     ]
    }
   ],
   "source": [
    "f = open(\"dream.txt\", 'r')\n",
    "contents = f.read()\n",
    "print(contents)\n",
    "f.close()   # open을 했으면 무조건 close를 해야함 안그러면 파일 저장 불가"
   ]
  },
  {
   "cell_type": "code",
   "execution_count": 7,
   "metadata": {},
   "outputs": [
    {
     "output_type": "stream",
     "name": "stdout",
     "text": [
      "<class 'str'>\nI Have a Dream, a song to sing\nTo help me cope, with anything\nIf you see the wonder, of a fairy tale\nYou can take the future, even if you fail\n\nI believe in angels\nSomething good in everything I see\nI believe in angels\nWhen I know the time is right for me\nI'll cross the stream, I Have a Dream\n\n"
     ]
    }
   ],
   "source": [
    "with open('dream.txt', 'r') as my_file :    # with를 사용하면 자동으로 close 사용 처리\n",
    "    contents = my_file.read()\n",
    "    print(type(contents))\n",
    "    print(contents)"
   ]
  },
  {
   "cell_type": "code",
   "execution_count": 12,
   "metadata": {},
   "outputs": [
    {
     "output_type": "stream",
     "name": "stdout",
     "text": [
      "<class 'list'>\n['I Have a Dream, a song to sing\\n', 'To help me cope, with anything\\n', 'If you see the wonder, of a fairy tale\\n', 'You can take the future, even if you fail\\n', '\\n', 'I believe in angels\\n', 'Something good in everything I see\\n', 'I believe in angels\\n', 'When I know the time is right for me\\n', \"I'll cross the stream, I Have a Dream\\n\"]\nI Have a Dream, a song to sing\n\n"
     ]
    }
   ],
   "source": [
    "# 한 줄씩 리스트로 변환\n",
    "with open('dream.txt', 'r') as my_file :\n",
    "    list_contents = my_file.readlines()\n",
    "    print(type(list_contents))\n",
    "    print(list_contents)\n",
    "    print(list_contents[0])"
   ]
  },
  {
   "cell_type": "code",
   "execution_count": 16,
   "metadata": {},
   "outputs": [
    {
     "output_type": "stream",
     "name": "stdout",
     "text": [
      "1 : I Have a Dream, a song to sing\n2 : To help me cope, with anything\n3 : If you see the wonder, of a fairy tale\n4 : You can take the future, even if you fail\n5 : \n6 : I believe in angels\n7 : Something good in everything I see\n8 : I believe in angels\n9 : When I know the time is right for me\n10 : I'll cross the stream, I Have a Dream\n"
     ]
    }
   ],
   "source": [
    "# 한 줄 단위로 읽기\n",
    "with open('dream.txt', 'r') as my_file :\n",
    "    number = 1\n",
    "    while True :\n",
    "        line = my_file.readline()\n",
    "        if not line : break # 라인이 더이상 없으면 break\n",
    "        print(number, ':', line.replace('\\n', ''))  # replace(a, b) | a를 b로 대체\n",
    "        number += 1"
   ]
  },
  {
   "source": [
    "- 파일 쓰기 write()"
   ],
   "cell_type": "markdown",
   "metadata": {}
  },
  {
   "cell_type": "code",
   "execution_count": 24,
   "metadata": {},
   "outputs": [],
   "source": [
    "with open('new_file.txt', 'w') as f :\n",
    "    f.write('A quick brown fox jumps over the lazy dog.')"
   ]
  },
  {
   "cell_type": "code",
   "execution_count": 25,
   "metadata": {},
   "outputs": [],
   "source": [
    "# write mode에서는 파일을 over write함\n",
    "with open('new_file1.txt', 'w', encoding = 'utf8') as f :\n",
    "    f.write('새로운 글을 씁니다.')"
   ]
  },
  {
   "cell_type": "code",
   "execution_count": 26,
   "metadata": {},
   "outputs": [],
   "source": [
    "with open('new_file2.txt', 'a', encoding = 'utf8') as f :\n",
    "    f.write('새로운 글을 씁니다.\\n')\n",
    "    f.write('새로운 글을 씁니다.\\n')"
   ]
  },
  {
   "cell_type": "code",
   "execution_count": null,
   "metadata": {},
   "outputs": [],
   "source": [
    "- 디렉토리 만들기 mkdir()"
   ]
  },
  {
   "cell_type": "code",
   "execution_count": 27,
   "metadata": {},
   "outputs": [],
   "source": [
    "import os\n",
    "os.mkdir('subdir')"
   ]
  },
  {
   "cell_type": "code",
   "execution_count": 28,
   "metadata": {},
   "outputs": [
    {
     "output_type": "execute_result",
     "data": {
      "text/plain": [
       "True"
      ]
     },
     "metadata": {},
     "execution_count": 28
    }
   ],
   "source": [
    "if not os.path.exists('subdir') :   # os.path.exists() | 파일/디렉토리 존재 여부 확인\n",
    "    os.mkdir('subdir')"
   ]
  },
  {
   "cell_type": "code",
   "execution_count": 54,
   "metadata": {},
   "outputs": [],
   "source": [
    "with open('dream.txt','r') as txt :\n",
    "    dream = txt.readlines()\n",
    "\n",
    "if not os.path.exists('subdir') :\n",
    "    mkdir('subdir')\n",
    "\n",
    "with open('subdir/dream_odd.txt', 'w') as dream_odd :\n",
    "    for i in range(len(dream)) :\n",
    "        if i % 2 == 0 :\n",
    "            dream_odd.write(dream[i])"
   ]
  },
  {
   "cell_type": "code",
   "execution_count": 59,
   "metadata": {},
   "outputs": [],
   "source": [
    "with open('dream.txt','r') as txt :\n",
    "    dream = txt.readlines()\n",
    "\n",
    "if not os.path.exists('subdir') :\n",
    "    mkdir('subdir')\n",
    "\n",
    "with open('subdir/dream_odd.txt', 'w') as dream_odd :\n",
    "    for index, lyric in enumerate(dream) :\n",
    "        if index % 2 == 0 :\n",
    "            dream_odd.write(lyric)"
   ]
  },
  {
   "source": [
    "- binary data - pickle"
   ],
   "cell_type": "markdown",
   "metadata": {}
  },
  {
   "cell_type": "code",
   "execution_count": 63,
   "metadata": {},
   "outputs": [
    {
     "output_type": "execute_result",
     "data": {
      "text/plain": [
       "[1, True, 3.14, 'string']"
      ]
     },
     "metadata": {},
     "execution_count": 63
    }
   ],
   "source": [
    "test_list = [1, True, 3.14, 'string']\n",
    "\n",
    "import pickle\n",
    "\n",
    "with open('list.pickle', 'wb') as bf :   # binary는 w뒤에 b를 추가\n",
    "    pickle.dump(test_list, bf)\n",
    "\n",
    "with open('list.pickle', 'rb') as bf :\n",
    "    p = pickle.load(bf)\n",
    "p"
   ]
  }
 ]
}
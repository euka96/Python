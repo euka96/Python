{
 "metadata": {
  "language_info": {
   "codemirror_mode": {
    "name": "ipython",
    "version": 3
   },
   "file_extension": ".py",
   "mimetype": "text/x-python",
   "name": "python",
   "nbconvert_exporter": "python",
   "pygments_lexer": "ipython3",
   "version": "3.8.8"
  },
  "orig_nbformat": 2,
  "kernelspec": {
   "name": "python388jvsc74a57bd094be3c0045a496f1db0f6c0933821dfb1f75d678fefa7c30ef8ba447fd697bda",
   "display_name": "Python 3.8.8 64-bit ('base': conda)"
  },
  "metadata": {
   "interpreter": {
    "hash": "94be3c0045a496f1db0f6c0933821dfb1f75d678fefa7c30ef8ba447fd697bda"
   }
  }
 },
 "nbformat": 4,
 "nbformat_minor": 2,
 "cells": [
  {
   "source": [
    "1) 파이썬 프로그래밍 환경\n",
    "\n",
    "2) 화면 입출력"
   ],
   "cell_type": "markdown",
   "metadata": {}
  },
  {
   "cell_type": "code",
   "execution_count": 2,
   "metadata": {},
   "outputs": [
    {
     "output_type": "stream",
     "name": "stdout",
     "text": [
      "Please write your name : \n",
      "Hello Eugene How are you today?\n"
     ]
    }
   ],
   "source": [
    "print(\"Please write your name : \")\n",
    "yourname = input()\n",
    "print(\"Hello\", yourname, \"How are you today?\")"
   ]
  },
  {
   "cell_type": "code",
   "execution_count": null,
   "metadata": {},
   "outputs": [],
   "source": [
    "yourname = input(\"Please write your name : \")\n",
    "print(f\"Hello {yourname}, How are you today?\")"
   ]
  },
  {
   "cell_type": "code",
   "execution_count": null,
   "metadata": {},
   "outputs": [],
   "source": [
    "# 화씨 온도 변환기\n",
    "celsius = input(\"write celsius degree : \")\n",
    "fahrenheit = float(celsius) * 1.8 + 32\n",
    "print(f\"{celsius} celsius = {fahrenheit} fahrenheit\")"
   ]
  },
  {
   "cell_type": "code",
   "execution_count": null,
   "metadata": {},
   "outputs": [],
   "source": [
    "celsius = float(input(\"write celsius degree : \"))\n",
    "fahrenheit = celsius * 1.8 + 32\n",
    "print(f\"{celsius} celsius = {fahrenheit:.2f} fahrenheit\")"
   ]
  }
 ]
}
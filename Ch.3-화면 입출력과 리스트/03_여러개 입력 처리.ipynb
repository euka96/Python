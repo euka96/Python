{
 "metadata": {
  "language_info": {
   "codemirror_mode": {
    "name": "ipython",
    "version": 3
   },
   "file_extension": ".py",
   "mimetype": "text/x-python",
   "name": "python",
   "nbconvert_exporter": "python",
   "pygments_lexer": "ipython3",
   "version": "3.8.8"
  },
  "orig_nbformat": 2,
  "kernelspec": {
   "name": "python388jvsc74a57bd094be3c0045a496f1db0f6c0933821dfb1f75d678fefa7c30ef8ba447fd697bda",
   "display_name": "Python 3.8.8 64-bit ('base': conda)"
  },
  "metadata": {
   "interpreter": {
    "hash": "94be3c0045a496f1db0f6c0933821dfb1f75d678fefa7c30ef8ba447fd697bda"
   }
  }
 },
 "nbformat": 4,
 "nbformat_minor": 2,
 "cells": [
  {
   "source": [
    "여러개 입력 처리"
   ],
   "cell_type": "markdown",
   "metadata": {}
  },
  {
   "cell_type": "code",
   "execution_count": 3,
   "metadata": {},
   "outputs": [
    {
     "output_type": "execute_result",
     "data": {
      "text/plain": [
       "['red', 'green', 'blue']"
      ]
     },
     "metadata": {},
     "execution_count": 3
    }
   ],
   "source": [
    "a = \"red green blue\"\n",
    "a.split()"
   ]
  },
  {
   "cell_type": "code",
   "execution_count": 5,
   "metadata": {},
   "outputs": [
    {
     "output_type": "execute_result",
     "data": {
      "text/plain": [
       "['red', 'green', 'blue']"
      ]
     },
     "metadata": {},
     "execution_count": 5
    }
   ],
   "source": [
    "b = \"red, green, blue\"\n",
    "b.split(\", \")"
   ]
  },
  {
   "cell_type": "code",
   "execution_count": 7,
   "metadata": {},
   "outputs": [
    {
     "output_type": "execute_result",
     "data": {
      "text/plain": [
       "('red', 'green', 'blue')"
      ]
     },
     "metadata": {},
     "execution_count": 7
    }
   ],
   "source": [
    "string = input(\"write 3 primary colours of light seperated by blank\")\n",
    "string\n",
    "r, g, b = string.split()\n",
    "r, g, b"
   ]
  },
  {
   "cell_type": "code",
   "execution_count": 9,
   "metadata": {},
   "outputs": [
    {
     "output_type": "stream",
     "name": "stdout",
     "text": [
      "<map object at 0x7fd968b7c7c0>\n[3.1, 2.4, 8.5]\n"
     ]
    }
   ],
   "source": [
    "numbers = [\"3.1\", \"2.4\", \"8.5\"]\n",
    "print(map(float, numbers))\n",
    "print(list(map(float, numbers)))"
   ]
  },
  {
   "cell_type": "code",
   "execution_count": 13,
   "metadata": {},
   "outputs": [
    {
     "output_type": "stream",
     "name": "stdout",
     "text": [
      "[3.2, 2.4, 8.5]\n"
     ]
    }
   ],
   "source": [
    "string = '3.2 2.4 8.5'\n",
    "print(list(map(float, string.split())))"
   ]
  },
  {
   "cell_type": "code",
   "execution_count": 15,
   "metadata": {},
   "outputs": [
    {
     "output_type": "execute_result",
     "data": {
      "text/plain": [
       "'3.2 2.4 8.5'"
      ]
     },
     "metadata": {},
     "execution_count": 15
    }
   ],
   "source": [
    "string = input(\"write 3 any numbers seperated by blank\")\n",
    "string"
   ]
  },
  {
   "cell_type": "code",
   "execution_count": 23,
   "metadata": {},
   "outputs": [
    {
     "output_type": "execute_result",
     "data": {
      "text/plain": [
       "(3, 4, 5.1)"
      ]
     },
     "metadata": {},
     "execution_count": 23
    }
   ],
   "source": [
    "x, y, z = [3, 4, 5.1]\n",
    "x, y, z"
   ]
  },
  {
   "cell_type": "code",
   "execution_count": 24,
   "metadata": {},
   "outputs": [
    {
     "output_type": "execute_result",
     "data": {
      "text/plain": [
       "(3.0, 4.0, 5.1)"
      ]
     },
     "metadata": {},
     "execution_count": 24
    }
   ],
   "source": [
    "x, y, z = list(map(float, input(\"write 3 any numbers seperated by blank\").split()))\n",
    "x, y, z"
   ]
  },
  {
   "cell_type": "code",
   "execution_count": 25,
   "metadata": {},
   "outputs": [
    {
     "output_type": "execute_result",
     "data": {
      "text/plain": [
       "(3.0, 4.0, 5.1)"
      ]
     },
     "metadata": {},
     "execution_count": 25
    }
   ],
   "source": [
    "x, y, z = map(float, input(\"write 3 any numbers seperated by blank\").split())\n",
    "x, y, z"
   ]
  },
  {
   "source": [
    "range - sequence 자료형"
   ],
   "cell_type": "markdown",
   "metadata": {}
  },
  {
   "cell_type": "code",
   "execution_count": 2,
   "metadata": {},
   "outputs": [
    {
     "output_type": "execute_result",
     "data": {
      "text/plain": [
       "[0, 1, 2, 3, 4]"
      ]
     },
     "metadata": {},
     "execution_count": 2
    }
   ],
   "source": [
    "# 하나만 있으면 0에서부터 끝값 + 1\n",
    "list(range(5))"
   ]
  },
  {
   "cell_type": "code",
   "execution_count": 3,
   "metadata": {},
   "outputs": [
    {
     "output_type": "execute_result",
     "data": {
      "text/plain": [
       "[1, 2, 3, 4, 5, 6, 7, 8, 9, 10]"
      ]
     },
     "metadata": {},
     "execution_count": 3
    }
   ],
   "source": [
    "# 1 ~ 10\n",
    "list(range(1, 11))"
   ]
  },
  {
   "cell_type": "code",
   "execution_count": 4,
   "metadata": {},
   "outputs": [
    {
     "output_type": "execute_result",
     "data": {
      "text/plain": [
       "[1, 3, 5, 7, 9]"
      ]
     },
     "metadata": {},
     "execution_count": 4
    }
   ],
   "source": [
    "# 1 ~ 10 odd number\n",
    "list(range(1, 10, 2))"
   ]
  },
  {
   "cell_type": "code",
   "execution_count": 5,
   "metadata": {},
   "outputs": [
    {
     "output_type": "execute_result",
     "data": {
      "text/plain": [
       "[2, 4, 6, 8, 10]"
      ]
     },
     "metadata": {},
     "execution_count": 5
    }
   ],
   "source": [
    "# 1 ~ 10 even number\n",
    "list(range(2, 11, 2))"
   ]
  },
  {
   "cell_type": "code",
   "execution_count": 6,
   "metadata": {},
   "outputs": [
    {
     "output_type": "execute_result",
     "data": {
      "text/plain": [
       "[10, 8, 6, 4, 2]"
      ]
     },
     "metadata": {},
     "execution_count": 6
    }
   ],
   "source": [
    "# 1 ~ 10 even number, descending\n",
    "list(range(10, 1, -2))"
   ]
  },
  {
   "source": [
    "Q. 두개의 정수를 입력받아 첫번째 값부터 두번째 값까지 출력"
   ],
   "cell_type": "markdown",
   "metadata": {}
  },
  {
   "cell_type": "code",
   "execution_count": 35,
   "metadata": {
    "tags": []
   },
   "outputs": [
    {
     "output_type": "stream",
     "name": "stdout",
     "text": [
      "Please write different numbers\n",
      "[2, 3, 4, 5, 6, 7, 8, 9, 10]\n"
     ]
    }
   ],
   "source": [
    "x, y = map(int, input(\"Write 2 numbers\").split())\n",
    "if x < y:\n",
    "    print(list(range(x , y + 1)))\n",
    "elif x > y:\n",
    "    print(list(range(y, x + 1)))\n",
    "else : \n",
    "    x, y = map(int, input(\"Please write '2 different' numbers\").split())\n",
    "    if x < y:\n",
    "        print(list(range(x , y + 1)))\n",
    "    elif x > y:\n",
    "        print(list(range(y, x + 1)))"
   ]
  },
  {
   "cell_type": "code",
   "execution_count": 11,
   "metadata": {},
   "outputs": [
    {
     "output_type": "stream",
     "name": "stdout",
     "text": [
      "['3', '2']\n"
     ]
    }
   ],
   "source": [
    "a = input(\"Write numbers seperated by blank\").split()\n",
    "print(a[0:2])"
   ]
  }
 ]
}
{
 "metadata": {
  "language_info": {
   "codemirror_mode": {
    "name": "ipython",
    "version": 3
   },
   "file_extension": ".py",
   "mimetype": "text/x-python",
   "name": "python",
   "nbconvert_exporter": "python",
   "pygments_lexer": "ipython3",
   "version": "3.8.8"
  },
  "orig_nbformat": 2,
  "kernelspec": {
   "name": "python388jvsc74a57bd094be3c0045a496f1db0f6c0933821dfb1f75d678fefa7c30ef8ba447fd697bda",
   "display_name": "Python 3.8.8 64-bit ('base': conda)"
  },
  "metadata": {
   "interpreter": {
    "hash": "94be3c0045a496f1db0f6c0933821dfb1f75d678fefa7c30ef8ba447fd697bda"
   }
  }
 },
 "nbformat": 4,
 "nbformat_minor": 2,
 "cells": [
  {
   "source": [
    "# 문자열 응용\n",
    "\n",
    "- 단어 카운팅"
   ],
   "cell_type": "markdown",
   "metadata": {}
  },
  {
   "cell_type": "code",
   "execution_count": 6,
   "metadata": {},
   "outputs": [
    {
     "output_type": "execute_result",
     "data": {
      "text/plain": [
       "200"
      ]
     },
     "metadata": {},
     "execution_count": 6
    }
   ],
   "source": [
    "# github에서 파일 불러오기\n",
    "import requests\n",
    "base_url = \"https://api.github.com/repos\"           # 불러오려는 사이트 주소\n",
    "user_name = \"TeamLab\"                               # 아이디\n",
    "repo_name = \"introduction_to_python_TEAMLAB_MOOC\"   # 레포지토리 이름\n",
    "path_name = \"code/6/yesterday.txt\"\n",
    "url = f\"{base_url}/{user_name}/{repo_name}/contents/{path_name}\"\n",
    "req = requests.get(url)\n",
    "req.status_code"
   ]
  },
  {
   "cell_type": "code",
   "execution_count": 10,
   "metadata": {},
   "outputs": [
    {
     "output_type": "execute_result",
     "data": {
      "text/plain": [
       "{'name': 'yesterday.txt',\n",
       " 'path': 'code/6/yesterday.txt',\n",
       " 'sha': 'eb2fd6fc6e8fd51df6c5c15582f687c82462bd75',\n",
       " 'size': 638,\n",
       " 'url': 'https://api.github.com/repos/TeamLab/introduction_to_python_TEAMLAB_MOOC/contents/code/6/yesterday.txt?ref=master',\n",
       " 'html_url': 'https://github.com/TeamLab/introduction_to_python_TEAMLAB_MOOC/blob/master/code/6/yesterday.txt',\n",
       " 'git_url': 'https://api.github.com/repos/TeamLab/introduction_to_python_TEAMLAB_MOOC/git/blobs/eb2fd6fc6e8fd51df6c5c15582f687c82462bd75',\n",
       " 'download_url': 'https://raw.githubusercontent.com/TeamLab/introduction_to_python_TEAMLAB_MOOC/master/code/6/yesterday.txt',\n",
       " 'type': 'file',\n",
       " 'content': 'WWVzdGVyZGF5LCBhbGwgbXkgdHJvdWJsZXMgc2VlbWVkIHNvIGZhciBhd2F5\\nCk5vdyBpdCBsb29rcyBhcyB0aG91Z2ggdGhleSdyZSBoZXJlIHRvIHN0YXkK\\nb2gsIEkgYmVsaWV2ZSBpbiB5ZXN0ZXJkYXkKClN1ZGRlbmx5LCBJJ20gbm90\\nIGhhbGYgdGhlIG1hbiBJIHVzZWQgdG8gYmUKVGhlcmUncyBhIHNoYWRvdyBo\\nYW5naW5nIG92ZXIgbWUKT2gsIHllc3RlcmRheSBjYW1lIHN1ZGRlbmx5LgoK\\nV2h5IHNoZSBoYWQgdG8gZ28/CkkgZG9uJ3Qga25vdywgc2hlIHdvdWxkbid0\\nIHNheQpJIHNhaWQgc29tZXRoaW5nIHdyb25nCk5vdyBJIGxvbmcgZm9yIHll\\nc3RlcmRheS4KClllc3RlcmRheSBsb3ZlIHdhcyBzdWNoIGFuIGVhc3kgZ2Ft\\nZSB0byBwbGF5Ck5vdyBJIG5lZWQgYSBwbGFjZSB0byBoaWRlIGF3YXkKT2gs\\nIEkgYmVsaWV2ZSBpbiB5ZXN0ZXJkYXkuCgpXaHkgc2hlIGhhZCB0byBnbz8K\\nSSBkb24ndCBrbm93LCBzaGUgd291bGRuJ3Qgc2F5Ckkgc2FpZCBzb21ldGhp\\nbmcgd3JvbmcKTm93IEkgbG9uZyBmb3IgeWVzdGVyZGF5LgoKWWVzdGVyZGF5\\nIGxvdmUgd2FzIHN1Y2ggYW4gZWFzeSBnYW1lIHRvIHBsYXkKTm93IEkgbmVl\\nZCBhIHBsYWNlIHRvIGhpZGUgYXdheQpPaCwgSSBiZWxpZXZlIGluIHllc3Rl\\ncmRheS4uLgo=\\n',\n",
       " 'encoding': 'base64',\n",
       " '_links': {'self': 'https://api.github.com/repos/TeamLab/introduction_to_python_TEAMLAB_MOOC/contents/code/6/yesterday.txt?ref=master',\n",
       "  'git': 'https://api.github.com/repos/TeamLab/introduction_to_python_TEAMLAB_MOOC/git/blobs/eb2fd6fc6e8fd51df6c5c15582f687c82462bd75',\n",
       "  'html': 'https://github.com/TeamLab/introduction_to_python_TEAMLAB_MOOC/blob/master/code/6/yesterday.txt'}}"
      ]
     },
     "metadata": {},
     "execution_count": 10
    }
   ],
   "source": [
    "parsed_req = req.json()\n",
    "parsed_req"
   ]
  },
  {
   "cell_type": "code",
   "execution_count": 19,
   "metadata": {},
   "outputs": [
    {
     "output_type": "stream",
     "name": "stdout",
     "text": [
      "b\"Yesterday, all my troubles seemed so far away\\nNow it looks as though they're here to stay\\noh, I believe in yesterday\\n\\nSuddenly, I'm not half the man I used to be\\nThere's a shadow hanging over me\\nOh, yesterday came suddenly.\\n\\nWhy she had to go?\\nI don't know, she wouldn't say\\nI said something wrong\\nNow I long for yesterday.\\n\\nYesterday love was such an easy game to play\\nNow I need a place to hide away\\nOh, I believe in yesterday.\\n\\nWhy she had to go?\\nI don't know, she wouldn't say\\nI said something wrong\\nNow I long for yesterday.\\n\\nYesterday love was such an easy game to play\\nNow I need a place to hide away\\nOh, I believe in yesterday...\\n\"\n"
     ]
    }
   ],
   "source": [
    "# base 64 encoding\n",
    "import base64\n",
    "byte_content = base64.b64decode(parsed_req[\"content\"])\n",
    "print(byte_content)"
   ]
  },
  {
   "cell_type": "code",
   "execution_count": 20,
   "metadata": {},
   "outputs": [
    {
     "output_type": "stream",
     "name": "stdout",
     "text": [
      "Yesterday, all my troubles seemed so far away\nNow it looks as though they're here to stay\noh, I believe in yesterday\n\nSuddenly, I'm not half the man I used to be\nThere's a shadow hanging over me\nOh, yesterday came suddenly.\n\nWhy she had to go?\nI don't know, she wouldn't say\nI said something wrong\nNow I long for yesterday.\n\nYesterday love was such an easy game to play\nNow I need a place to hide away\nOh, I believe in yesterday.\n\nWhy she had to go?\nI don't know, she wouldn't say\nI said something wrong\nNow I long for yesterday.\n\nYesterday love was such an easy game to play\nNow I need a place to hide away\nOh, I believe in yesterday...\n\n"
     ]
    }
   ],
   "source": [
    "lyrics  = byte_content.decode()\n",
    "print(lyrics)"
   ]
  },
  {
   "cell_type": "code",
   "execution_count": 24,
   "metadata": {},
   "outputs": [
    {
     "output_type": "execute_result",
     "data": {
      "text/plain": [
       "9"
      ]
     },
     "metadata": {},
     "execution_count": 24
    }
   ],
   "source": [
    "times_yesterday = lyrics.lower().count(\"yesterday\")\n",
    "times_yesterday"
   ]
  },
  {
   "source": [
    "- ASCII"
   ],
   "cell_type": "markdown",
   "metadata": {}
  },
  {
   "cell_type": "code",
   "execution_count": 29,
   "metadata": {},
   "outputs": [
    {
     "output_type": "stream",
     "name": "stdout",
     "text": [
      "65\n"
     ]
    },
    {
     "output_type": "execute_result",
     "data": {
      "text/plain": [
       "'A'"
      ]
     },
     "metadata": {},
     "execution_count": 29
    }
   ],
   "source": [
    "print(ord(\"A\")) # 문자의 ASCII code 값을 알려줌\n",
    "print(chr(65))  # ASCII code가 받는 문자를 알려줌"
   ]
  },
  {
   "cell_type": "code",
   "execution_count": 30,
   "metadata": {},
   "outputs": [
    {
     "output_type": "execute_result",
     "data": {
      "text/plain": [
       "'HEY'"
      ]
     },
     "metadata": {},
     "execution_count": 30
    }
   ],
   "source": [
    "word = chr(ord(\"C\") + 5) + chr(ord(\"@\") + 5) + chr(ord(\"T\") + 5)\n",
    "word"
   ]
  },
  {
   "cell_type": "code",
   "execution_count": 32,
   "metadata": {},
   "outputs": [
    {
     "output_type": "execute_result",
     "data": {
      "text/plain": [
       "'HEY'"
      ]
     },
     "metadata": {},
     "execution_count": 32
    }
   ],
   "source": [
    "word = \"\"\n",
    "for c in \"C@T\" :\n",
    "    word += chr(ord(c) + 5)\n",
    "word"
   ]
  },
  {
   "cell_type": "code",
   "execution_count": 34,
   "metadata": {},
   "outputs": [
    {
     "output_type": "execute_result",
     "data": {
      "text/plain": [
       "'HEY'"
      ]
     },
     "metadata": {},
     "execution_count": 34
    }
   ],
   "source": [
    "word = \"\".join(chr(ord(c) + 5) for c in \"C@T\")\n",
    "word"
   ]
  },
  {
   "source": [
    "- 문자열 포맷\n",
    "\n",
    "%s string\n",
    "\n",
    "%d decima 정수\n",
    "\n",
    "%f float"
   ],
   "cell_type": "markdown",
   "metadata": {}
  },
  {
   "cell_type": "code",
   "execution_count": 1,
   "metadata": {},
   "outputs": [
    {
     "output_type": "execute_result",
     "data": {
      "text/plain": [
       "'3.141592653589793, 3.142'"
      ]
     },
     "metadata": {},
     "execution_count": 1
    }
   ],
   "source": [
    "import math\n",
    "a = f\"{math.pi}, {math.pi:.3f}\"\n",
    "a"
   ]
  },
  {
   "cell_type": "code",
   "execution_count": 2,
   "metadata": {},
   "outputs": [
    {
     "output_type": "execute_result",
     "data": {
      "text/plain": [
       "'10,000'"
      ]
     },
     "metadata": {},
     "execution_count": 2
    }
   ],
   "source": [
    "b = f\"{10000:,}\"\n",
    "b"
   ]
  }
 ]
}
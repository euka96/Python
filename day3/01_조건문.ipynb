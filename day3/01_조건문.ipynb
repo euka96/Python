{
 "metadata": {
  "language_info": {
   "codemirror_mode": {
    "name": "ipython",
    "version": 3
   },
   "file_extension": ".py",
   "mimetype": "text/x-python",
   "name": "python",
   "nbconvert_exporter": "python",
   "pygments_lexer": "ipython3",
   "version": "3.8.8"
  },
  "orig_nbformat": 2,
  "kernelspec": {
   "name": "python388jvsc74a57bd094be3c0045a496f1db0f6c0933821dfb1f75d678fefa7c30ef8ba447fd697bda",
   "display_name": "Python 3.8.8 64-bit ('base': conda)"
  },
  "metadata": {
   "interpreter": {
    "hash": "94be3c0045a496f1db0f6c0933821dfb1f75d678fefa7c30ef8ba447fd697bda"
   }
  }
 },
 "nbformat": 4,
 "nbformat_minor": 2,
 "cells": [
  {
   "source": [
    "조건문"
   ],
   "cell_type": "markdown",
   "metadata": {}
  },
  {
   "source": [
    "1) if - else"
   ],
   "cell_type": "markdown",
   "metadata": {}
  },
  {
   "cell_type": "code",
   "execution_count": 1,
   "metadata": {},
   "outputs": [
    {
     "output_type": "stream",
     "name": "stdout",
     "text": [
      "Welcome to the club\n"
     ]
    }
   ],
   "source": [
    "age = int(input(\"Type your age : \"))\n",
    "if age < 30 :\n",
    "    print(\"Welcome to the club\")\n",
    "else :\n",
    "    print(\"You are not accepted\")"
   ]
  },
  {
   "cell_type": "code",
   "execution_count": 3,
   "metadata": {},
   "outputs": [
    {
     "output_type": "stream",
     "name": "stdout",
     "text": [
      "You are not allowed\n"
     ]
    }
   ],
   "source": [
    "age = int(input(\"Type your age : \"))\n",
    "if 15 < age < 30 : print(\"Welcome to the club\") # 실행문이 한 문장이면 바로 뒤에 써도 됨\n",
    "else : print(\"You are not allowed\")"
   ]
  },
  {
   "cell_type": "code",
   "execution_count": null,
   "metadata": {},
   "outputs": [],
   "source": [
    "# -5 ~ 255 까지는 같은 메모리\n",
    "# x is y / x is not y | 메모리 주소가 같은지 검사"
   ]
  },
  {
   "cell_type": "code",
   "execution_count": 10,
   "metadata": {},
   "outputs": [
    {
     "output_type": "stream",
     "name": "stdout",
     "text": [
      "You are not allowed\n"
     ]
    }
   ],
   "source": [
    "# 3항 연산자\n",
    "age = int(input(\"Type your age : \"))\n",
    "msg = \"Welcome to the club\" if 15 < age < 30 else \"You are not allowed\"\n",
    "print(msg)"
   ]
  },
  {
   "cell_type": "code",
   "execution_count": 14,
   "metadata": {},
   "outputs": [
    {
     "output_type": "stream",
     "name": "stdout",
     "text": [
      "True\n"
     ]
    },
    {
     "output_type": "execute_result",
     "data": {
      "text/plain": [
       "234383243"
      ]
     },
     "metadata": {},
     "execution_count": 14
    }
   ],
   "source": [
    "# 조건의 판단\n",
    "# or 앞의 값이 True일 경우, or 뒤의 값은 판단하지 않음\n",
    "print(3 == 3 or 20397489635)\n",
    "# or 앞의 값이 False일 경우, or 값은 무조건 뒤의 값이 나옴\n",
    "3 == 4 or 234383243"
   ]
  },
  {
   "source": [
    "2) if - elif - else"
   ],
   "cell_type": "markdown",
   "metadata": {}
  },
  {
   "cell_type": "code",
   "execution_count": 16,
   "metadata": {},
   "outputs": [
    {
     "output_type": "stream",
     "name": "stdout",
     "text": [
      "Your grade is A\n"
     ]
    }
   ],
   "source": [
    "# 조건의 범위는 가장 큰 값부터 시작\n",
    "score = int(input())\n",
    "if score >= 90 : grade = \"A\"\n",
    "elif score >= 80 : grade = \"B\"\n",
    "elif score >= 70 : grade = \"C\"\n",
    "elif score >= 60 : grade = \"D\"\n",
    "else : grade = \"F\"\n",
    "print(f\"Your grade is {grade}\")"
   ]
  },
  {
   "cell_type": "code",
   "execution_count": 19,
   "metadata": {},
   "outputs": [
    {
     "output_type": "stream",
     "name": "stdout",
     "text": [
      "A\n"
     ]
    }
   ],
   "source": [
    "score = int(input())\n",
    "grade = \"A\" if score >= 90 else \\\n",
    "            \"B\" if score >= 80 else \\\n",
    "                \"C\" if score >= 70 else \\\n",
    "                    \"D\" if score >= 60 else \\\n",
    "                        \"F\" # \\enter 줄바꿈\n",
    "print(grade)"
   ]
  },
  {
   "cell_type": "code",
   "execution_count": 27,
   "metadata": {},
   "outputs": [
    {
     "output_type": "stream",
     "name": "stdout",
     "text": [
      "대학생\n"
     ]
    }
   ],
   "source": [
    "from datetime import date   # from 패키지 import 모듈 / import * =  모든 모듈 가져오기\n",
    "today = date.today()\n",
    "today.year, today.month, today.day # 오늘 연도, 달, 일\n",
    "age = today.year - int(input(\"Which year were you born?\")) -1\n",
    "if 20 <= age <= 26 : print(\"대학생\")\n",
    "elif 17 <= age < 20 : print(\"고등학생\")\n",
    "elif 14 <= age < 17 : print(\"중학생\")\n",
    "elif 8 <= age < 14 : print(\"초등학생\")\n",
    "else : print(\"학생이 아닙니다\")"
   ]
  },
  {
   "cell_type": "code",
   "execution_count": 49,
   "metadata": {},
   "outputs": [
    {
     "output_type": "stream",
     "name": "stdout",
     "text": [
      "1\n2\nFizz\n4\nBuzz\nFizz\n7\n8\nFizz\nBuzz\n11\nFizz\n13\n14\nFizzBuzz\n16\n17\nFizz\n19\nBuzz\nFizz\n22\n23\nFizz\nBuzz\n26\nFizz\n28\n29\nFizzBuzz\n31\n32\nFizz\n34\nBuzz\nFizz\n37\n38\nFizz\nBuzz\n41\nFizz\n43\n44\nFizzBuzz\n46\n47\nFizz\n49\nBuzz\nFizz\n52\n53\nFizz\nBuzz\n56\nFizz\n58\n59\nFizzBuzz\n61\n62\nFizz\n64\nBuzz\nFizz\n67\n68\nFizz\nBuzz\n71\nFizz\n73\n74\nFizzBuzz\n76\n77\nFizz\n79\nBuzz\nFizz\n82\n83\nFizz\nBuzz\n86\nFizz\n88\n89\nFizzBuzz\n91\n92\nFizz\n94\nBuzz\nFizz\n97\n98\nFizz\nBuzz\n1\n2\nFizz\n4\nBuzz\nFizz\n7\n8\nFizz\nBuzz\n11\nFizz\n13\n14\nFizzBuzz\n16\n17\nFizz\n19\nBuzz\nFizz\n22\n23\nFizz\nBuzz\n26\nFizz\n28\n29\nFizzBuzz\n31\n32\nFizz\n34\nBuzz\nFizz\n37\n38\nFizz\nBuzz\n41\nFizz\n43\n44\nFizzBuzz\n46\n47\nFizz\n49\nBuzz\nFizz\n52\n53\nFizz\nBuzz\n56\nFizz\n58\n59\nFizzBuzz\n61\n62\nFizz\n64\nBuzz\nFizz\n67\n68\nFizz\nBuzz\n71\nFizz\n73\n74\nFizzBuzz\n76\n77\nFizz\n79\nBuzz\nFizz\n82\n83\nFizz\nBuzz\n86\nFizz\n88\n89\nFizzBuzz\n91\n92\nFizz\n94\nBuzz\nFizz\n97\n98\nFizz\nBuzz\n"
     ]
    }
   ],
   "source": [
    "# FizzBuzz\n",
    "for i in range(1, 101) :\n",
    "    if i % 3 == 0 and i % 5 == 0 : print(\"FizzBuzz\")\n",
    "    elif i % 3 == 0 : print(\"Fizz\")\n",
    "    elif i % 5 == 0 : print(\"Buzz\")\n",
    "    else : print(i)\n",
    "\n",
    "for i in range(1, 101) :\n",
    "    print(\"Fizz\" * (i % 3 == 0) + \"Buzz\" * (i % 5 == 0) or i)"
   ]
  }
 ]
}
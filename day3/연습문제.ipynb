{
 "metadata": {
  "language_info": {
   "codemirror_mode": {
    "name": "ipython",
    "version": 3
   },
   "file_extension": ".py",
   "mimetype": "text/x-python",
   "name": "python",
   "nbconvert_exporter": "python",
   "pygments_lexer": "ipython3",
   "version": "3.8.8"
  },
  "orig_nbformat": 2,
  "kernelspec": {
   "name": "python388jvsc74a57bd094be3c0045a496f1db0f6c0933821dfb1f75d678fefa7c30ef8ba447fd697bda",
   "display_name": "Python 3.8.8 64-bit ('base': conda)"
  },
  "metadata": {
   "interpreter": {
    "hash": "94be3c0045a496f1db0f6c0933821dfb1f75d678fefa7c30ef8ba447fd697bda"
   }
  }
 },
 "nbformat": 4,
 "nbformat_minor": 2,
 "cells": [
  {
   "source": [
    "1 - 1. 윤년"
   ],
   "cell_type": "markdown",
   "metadata": {}
  },
  {
   "cell_type": "code",
   "execution_count": 4,
   "metadata": {},
   "outputs": [
    {
     "output_type": "stream",
     "name": "stdout",
     "text": [
      "200 is NOT a lunar year\n"
     ]
    }
   ],
   "source": [
    "year = int(input())\n",
    "if year % 400 == 0 : print(f\"{year} is a leap year\")\n",
    "elif year % 4 == 0 and year % 100 != 0 : print(f\"{year} is a leap year\")\n",
    "else : print(f\"{year} is NOT a leap year\")"
   ]
  },
  {
   "source": [
    "1 - 2. 만 나이"
   ],
   "cell_type": "markdown",
   "metadata": {}
  },
  {
   "cell_type": "code",
   "execution_count": 2,
   "metadata": {},
   "outputs": [
    {
     "output_type": "stream",
     "name": "stdout",
     "text": [
      "24\n"
     ]
    }
   ],
   "source": [
    "from datetime import date\n",
    "today = date.today()\n",
    "birth_year, birth_month, birth_day = input().split()\n",
    "birth_year = int(birth_year)\n",
    "birth_month = int(birth_month)\n",
    "birth_day = int(birth_day)\n",
    "if birth_month > today.month :\n",
    "    age = today.year - birth_year - 1\n",
    "elif birth_month == today.month : \n",
    "    if birth_day > today.day :\n",
    "        age = today.year - birth_year - 1\n",
    "    else : age = today.year - birth_year\n",
    "else : \n",
    "    age = today.year - birth_year\n",
    "print(age)"
   ]
  },
  {
   "source": [
    "1 - 3. 피타고라스 정리 "
   ],
   "cell_type": "markdown",
   "metadata": {}
  },
  {
   "cell_type": "code",
   "execution_count": 37,
   "metadata": {},
   "outputs": [
    {
     "output_type": "stream",
     "name": "stdout",
     "text": [
      "200 375 425\n"
     ]
    }
   ],
   "source": [
    "for a in range(1, 1001) :\n",
    "    for b in range(a + 1, 1001 - a) :\n",
    "        c = 1000 - a - b\n",
    "        if a * a + b * b == c * c :\n",
    "            print(a, b, c) "
   ]
  },
  {
   "source": [
    "2 - 1. 별 그리기"
   ],
   "cell_type": "markdown",
   "metadata": {}
  },
  {
   "cell_type": "code",
   "execution_count": 21,
   "metadata": {},
   "outputs": [
    {
     "output_type": "stream",
     "name": "stdout",
     "text": [
      "     *\n    ***\n   *****\n  *******\n *********\n***********\n *********\n  *******\n   *****\n    ***\n     *\n"
     ]
    }
   ],
   "source": [
    "num = int(input())\n",
    "i = 1\n",
    "while i <= num :\n",
    "\tif i < (num // 2) + 1 :\n",
    "\t\tprint(\" \" * ((num // 2) - i), \"*\" * (2 * i - 1))\n",
    "\t\ti += 1\n",
    "\telif i > (num // 2) + 1 :\n",
    "\t\tprint(\" \" * ((num // 2) - (num - i + 1)), \"*\" * (2 * (num - i + 1) -1))\n",
    "\t\ti += 1\n",
    "\telse :\n",
    "\t\tprint(\"*\" * num)\n",
    "\t\ti += 1"
   ]
  },
  {
   "source": [
    "2 - 2. 디지털시계"
   ],
   "cell_type": "markdown",
   "metadata": {}
  },
  {
   "cell_type": "code",
   "execution_count": 46,
   "metadata": {},
   "outputs": [
    {
     "output_type": "stream",
     "name": "stdout",
     "text": [
      "29700\n"
     ]
    }
   ],
   "source": [
    "hour = 0\n",
    "min = 0\n",
    "for i in range(0, 24) :\n",
    "    if \"3\" in str(i) :\n",
    "        hour += 3600\n",
    "    for j in range(0, 60) :\n",
    "        if \"3\" in str(j) :\n",
    "            min += 60\n",
    "            if \"3\" in str(i) :\n",
    "                min -= 60\n",
    "print(hour + min)"
   ]
  },
  {
   "source": [
    "2 - 3. 숫자 개수 구하기"
   ],
   "cell_type": "markdown",
   "metadata": {}
  },
  {
   "cell_type": "code",
   "execution_count": 1,
   "metadata": {},
   "outputs": [
    {
     "output_type": "stream",
     "name": "stdout",
     "text": [
      "201\n301\n300\n300\n300\n300\n300\n300\n300\n300\n"
     ]
    }
   ],
   "source": [
    "num = 1\n",
    "i = []\n",
    "while num <= 1000 :\n",
    "\tif num < 100 :\n",
    "\t\ti.append(num // 10)\n",
    "\t\ti.append(num % 10)\n",
    "\telif num == 1000 :\n",
    "\t\ti.append(1)\n",
    "\t\ti.append(0)\n",
    "\t\ti.append(0)\n",
    "\t\ti.append(0)\n",
    "\telse :\n",
    "\t\ti.append(num // 100)\n",
    "\t\ti.append((num - (num // 100)*100) // 10)\n",
    "\t\ti.append(num % 10)\n",
    "\tnum += 1\n",
    "j = 0\n",
    "while j < 10 :\n",
    "\tprint(i.count(j))\n",
    "\tj += 1"
   ]
  },
  {
   "source": [
    "2 - 4. 완전수"
   ],
   "cell_type": "markdown",
   "metadata": {}
  },
  {
   "cell_type": "code",
   "execution_count": 14,
   "metadata": {},
   "outputs": [
    {
     "output_type": "stream",
     "name": "stdout",
     "text": [
      "[1, 2, 3]\n"
     ]
    }
   ],
   "source": [
    "N = int(input())\n",
    "a = []\n",
    "i = 1\n",
    "while i <= N :\n",
    "    if N % i != 0 :\n",
    "        i += 1\n",
    "    else :\n",
    "        a.append(i)\n",
    "        i += 1\n",
    "a = a[0 : -1]\n",
    "if N == sum(a) :\n",
    "    print(a)"
   ]
  },
  {
   "source": [
    "2 - 5. 제곱의 합, 합의 제곱"
   ],
   "cell_type": "markdown",
   "metadata": {}
  },
  {
   "cell_type": "code",
   "execution_count": 26,
   "metadata": {},
   "outputs": [
    {
     "output_type": "stream",
     "name": "stdout",
     "text": [
      "2640\n"
     ]
    }
   ],
   "source": [
    "N = int(input())\n",
    "n = range(1, N + 1)\n",
    "a = []\n",
    "b = []\n",
    "for i in n :\n",
    "    a.append(i * i)\n",
    "    i += 1\n",
    "a = sum(a)\n",
    "for i in n :\n",
    "    b.append(i)\n",
    "    i += 1\n",
    "b = sum(b) * sum(b)\n",
    "print(b - a)"
   ]
  }
 ]
}

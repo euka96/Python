{
 "metadata": {
  "language_info": {
   "codemirror_mode": {
    "name": "ipython",
    "version": 3
   },
   "file_extension": ".py",
   "mimetype": "text/x-python",
   "name": "python",
   "nbconvert_exporter": "python",
   "pygments_lexer": "ipython3",
   "version": "3.8.8"
  },
  "orig_nbformat": 2,
  "kernelspec": {
   "name": "python388jvsc74a57bd094be3c0045a496f1db0f6c0933821dfb1f75d678fefa7c30ef8ba447fd697bda",
   "display_name": "Python 3.8.8 64-bit ('base': conda)"
  },
  "metadata": {
   "interpreter": {
    "hash": "94be3c0045a496f1db0f6c0933821dfb1f75d678fefa7c30ef8ba447fd697bda"
   }
  }
 },
 "nbformat": 4,
 "nbformat_minor": 2,
 "cells": [
  {
   "source": [
    "반복문"
   ],
   "cell_type": "markdown",
   "metadata": {}
  },
  {
   "source": [
    "1) for문\n",
    "- range()\n",
    "- list\n",
    "- str\n",
    "- tuple"
   ],
   "cell_type": "markdown",
   "metadata": {}
  },
  {
   "cell_type": "code",
   "execution_count": 1,
   "metadata": {},
   "outputs": [
    {
     "output_type": "stream",
     "name": "stdout",
     "text": [
      "Hello World\nHello World\nHello World\nHello World\nHello World\n"
     ]
    }
   ],
   "source": [
    "for i in range(5) : print(\"Hello World\")"
   ]
  },
  {
   "cell_type": "code",
   "execution_count": 2,
   "metadata": {},
   "outputs": [
    {
     "output_type": "stream",
     "name": "stdout",
     "text": [
      "0\n1\n2\n3\n4\n"
     ]
    }
   ],
   "source": [
    "for i in range(5) : print(i)"
   ]
  },
  {
   "cell_type": "code",
   "execution_count": 3,
   "metadata": {},
   "outputs": [
    {
     "output_type": "stream",
     "name": "stdout",
     "text": [
      "1\n2\n3\n"
     ]
    }
   ],
   "source": [
    "for i in [1, 2, 3] : print(i)"
   ]
  },
  {
   "cell_type": "code",
   "execution_count": 4,
   "metadata": {},
   "outputs": [
    {
     "output_type": "stream",
     "name": "stdout",
     "text": [
      "1\n2\n3\n"
     ]
    }
   ],
   "source": [
    "# tuple\n",
    "for i in (1, 2, 3) : print(i)"
   ]
  },
  {
   "cell_type": "code",
   "execution_count": 5,
   "metadata": {},
   "outputs": [
    {
     "output_type": "stream",
     "name": "stdout",
     "text": [
      "H\ne\nl\nl\no\n"
     ]
    }
   ],
   "source": [
    "# str\n",
    "for char in \"Hello\" : print(char)"
   ]
  },
  {
   "cell_type": "code",
   "execution_count": null,
   "metadata": {},
   "outputs": [],
   "source": [
    "# 중첩 for문 | matrix 를 for로 돌리는 법\n",
    "for row in :\n",
    "    for col in :"
   ]
  },
  {
   "cell_type": "code",
   "execution_count": 7,
   "metadata": {},
   "outputs": [
    {
     "output_type": "stream",
     "name": "stdout",
     "text": [
      "I\nLove\nYou\n"
     ]
    }
   ],
   "source": [
    "for s in \"I Love You\".split() : print(s)"
   ]
  },
  {
   "source": [
    "2) while문"
   ],
   "cell_type": "markdown",
   "metadata": {}
  },
  {
   "cell_type": "code",
   "execution_count": 3,
   "metadata": {},
   "outputs": [
    {
     "output_type": "stream",
     "name": "stdout",
     "text": [
      "1\n2\n3\n4\n5\n"
     ]
    }
   ],
   "source": [
    "i = 1\n",
    "while i < 6 :\n",
    "    print(i)\n",
    "    i += 1"
   ]
  },
  {
   "cell_type": "code",
   "execution_count": 7,
   "metadata": {},
   "outputs": [
    {
     "output_type": "stream",
     "name": "stdout",
     "text": [
      "s\n",
      "d\n",
      "d\n",
      ".\n"
     ]
    }
   ],
   "source": [
    "while True : \n",
    "    a = input()\n",
    "    print(a)\n",
    "    if a == \".\" :\n",
    "        break"
   ]
  },
  {
   "cell_type": "code",
   "execution_count": 11,
   "metadata": {},
   "outputs": [
    {
     "output_type": "stream",
     "name": "stdout",
     "text": [
      "6\n"
     ]
    }
   ],
   "source": [
    "sum = 0\n",
    "while True :\n",
    "    a = int(input())\n",
    "    if a == 0 :\n",
    "        break\n",
    "    sum += a\n",
    "print(sum)"
   ]
  },
  {
   "cell_type": "code",
   "execution_count": 13,
   "metadata": {},
   "outputs": [
    {
     "output_type": "stream",
     "name": "stdout",
     "text": [
      "0\n1\n2\n3\n4\n6\n7\n8\n9\nEnd of Program\n"
     ]
    }
   ],
   "source": [
    "# continue 특정 조건일 때 명령을 건너뛰고 계속 수행\n",
    "for i in range(10) :\n",
    "    if i == 5 : continue\n",
    "    print(i)\n",
    "print(\"End of Program\")"
   ]
  }
 ]
}
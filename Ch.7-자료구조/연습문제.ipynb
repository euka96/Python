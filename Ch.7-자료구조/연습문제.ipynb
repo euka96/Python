{
 "metadata": {
  "language_info": {
   "codemirror_mode": {
    "name": "ipython",
    "version": 3
   },
   "file_extension": ".py",
   "mimetype": "text/x-python",
   "name": "python",
   "nbconvert_exporter": "python",
   "pygments_lexer": "ipython3",
   "version": 3
  },
  "orig_nbformat": 2
 },
 "nbformat": 4,
 "nbformat_minor": 2,
 "cells": [
  {
   "cell_type": "code",
   "execution_count": null,
   "metadata": {},
   "outputs": [],
   "source": [
    "1. cesar code\n",
    "시저 암호는 고대 로마의 황제 카이사르가 만들어 낸 암호이다.\n",
    "알파벳 A를 입력했을 때, n"
   ]
  }
 ]
}
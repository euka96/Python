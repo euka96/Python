{
 "metadata": {
  "language_info": {
   "codemirror_mode": {
    "name": "ipython",
    "version": 3
   },
   "file_extension": ".py",
   "mimetype": "text/x-python",
   "name": "python",
   "nbconvert_exporter": "python",
   "pygments_lexer": "ipython3",
   "version": "3.8.8"
  },
  "orig_nbformat": 2,
  "kernelspec": {
   "name": "python388jvsc74a57bd094be3c0045a496f1db0f6c0933821dfb1f75d678fefa7c30ef8ba447fd697bda",
   "display_name": "Python 3.8.8 64-bit ('base': conda)"
  },
  "metadata": {
   "interpreter": {
    "hash": "94be3c0045a496f1db0f6c0933821dfb1f75d678fefa7c30ef8ba447fd697bda"
   }
  }
 },
 "nbformat": 4,
 "nbformat_minor": 2,
 "cells": [
  {
   "source": [
    "1. Caesar Code\n",
    "\n",
    "시저 암호는 고대 로마의 황제 카이사르가 만들어 낸 암호이다. 알파벳 A를 입력했을 때, 그 알파벳의 n개 뒤에 오는 알파벳이 출력되는 것이다. 어떠한 암호를 만들 문장과 n을 입력했을 때, 암호를 만들어 출력하는 프로그램을 작성하시오.\n",
    "\n",
    "- 입력 : 화면에서 문자열과 n값을 입력받는다.\n",
    "- 출력 : 암호화된 문자열을 출력"
   ],
   "cell_type": "markdown",
   "metadata": {}
  },
  {
   "cell_type": "code",
   "execution_count": null,
   "metadata": {},
   "outputs": [],
   "source": []
  },
  {
   "cell_type": "code",
   "execution_count": 4,
   "metadata": {},
   "outputs": [
    {
     "output_type": "stream",
     "name": "stdout",
     "text": [
      "WTXJ\n"
     ]
    }
   ],
   "source": [
    "A, n = input().split()\n",
    "n = int(n)\n",
    "AtoZ = \"ABCDEFGHIJKLMNOPQRSTUVWXYZ\"\n",
    "atoz = \"abcdefghijklmnopqrstuvwxyz\"\n",
    "result = \"\"\n",
    "for i in A :\n",
    "    if 65 <= ord(i) <= 90 :\n",
    "        result += (AtoZ * 2)[ord(i) - 65 + n]\n",
    "    elif 97 <= ord(i) <= 122 :\n",
    "        result += (atoz * 2)[ord(i) - 97 + n]\n",
    "print(result)"
   ]
  },
  {
   "cell_type": "code",
   "execution_count": 2,
   "metadata": {},
   "outputs": [
    {
     "output_type": "stream",
     "name": "stdout",
     "text": [
      "입력값 ROSE, 5에 대한 암호는 WTXJ, 해독하면 ROSE\n"
     ]
    }
   ],
   "source": [
    "def encode(plain, n) :\n",
    "    cypher = \"\"\n",
    "    for c in plain :\n",
    "        diff = ord(c) - ord(\"A\") + n\n",
    "        if diff >= 26 :\n",
    "            cypher += chr(ord(\"A\") + diff % 26)\n",
    "        else : \n",
    "            cypher += chr(ord(c) + n)\n",
    "    return cypher\n",
    "\n",
    "def decode(cypher, n) :\n",
    "    plain = \"\"\n",
    "    for c in cypher :\n",
    "        diff = ord(c) - ord(\"A\") - n\n",
    "        if diff < 0 :\n",
    "            plain += chr(ord(\"Z\") + diff + 1 )\n",
    "        else : \n",
    "            plain += chr(ord(c) - n)\n",
    "    return plain\n",
    "\n",
    "word, n = input().split()\n",
    "cypher = encode(word.upper(), int(n))\n",
    "plain = decode(cypher, int(n))\n",
    "print(f\"입력값 {word}, {n}에 대한 암호는 {cypher}, 해독하면 {plain}\")"
   ]
  },
  {
   "source": [
    "2. 특정 단어 개수 세기"
   ],
   "cell_type": "markdown",
   "metadata": {}
  },
  {
   "cell_type": "code",
   "execution_count": 2,
   "metadata": {},
   "outputs": [
    {
     "output_type": "stream",
     "name": "stdout",
     "text": [
      "6\n"
     ]
    }
   ],
   "source": [
    "string = input().split()\n",
    "answer = 0\n",
    "for i in string :\n",
    "    if i == \"the\" or i == \"the,\" or i == \"the.\":\n",
    "        answer += 1\n",
    "print(answer)"
   ]
  },
  {
   "cell_type": "code",
   "execution_count": 41,
   "metadata": {},
   "outputs": [
    {
     "output_type": "stream",
     "name": "stdout",
     "text": [
      "4\n"
     ]
    }
   ],
   "source": [
    "from string import punctuation\n",
    "\n",
    "string = input().split()\n",
    "answer = 0\n",
    "for i in string :\n",
    "    if i == \"the\" :\n",
    "        answer += 1\n",
    "    for j in range(len(punctuation)) :\n",
    "        if i == \"the\" + punctuation[j] :\n",
    "            answer += 1\n",
    "print(answer)"
   ]
  },
  {
   "source": [
    "3. 높은 가격순으로 출력하기"
   ],
   "cell_type": "markdown",
   "metadata": {}
  },
  {
   "cell_type": "code",
   "execution_count": 3,
   "metadata": {},
   "outputs": [
    {
     "output_type": "stream",
     "name": "stdout",
     "text": [
      "1,304,000\n  367,500\n  250,000\n  158,000\n  128,500\n   83,000\n   59,200\n   51,900\n"
     ]
    }
   ],
   "source": [
    "price = list(map(int, input().split(\";\")))\n",
    "price.sort(reverse = True)\n",
    "for i in price:\n",
    "    j = f\"{i:,}\"\n",
    "    print(\"%9s\"%j)"
   ]
  },
  {
   "source": [
    "4. 캐릭터 능력치 저장"
   ],
   "cell_type": "markdown",
   "metadata": {}
  },
  {
   "cell_type": "code",
   "execution_count": 4,
   "metadata": {},
   "outputs": [
    {
     "output_type": "stream",
     "name": "stdout",
     "text": [
      "{'health': 575.6, 'health_regen': 1.7, 'mana': 338.8, 'mana_regen': 1.63}\n"
     ]
    }
   ],
   "source": [
    "key = input().split()\n",
    "value = list(map(float, input().split()))\n",
    "print(dict(zip(key, value)))"
   ]
  },
  {
   "source": [
    "5. 특정 값 삭제하기"
   ],
   "cell_type": "markdown",
   "metadata": {}
  },
  {
   "cell_type": "code",
   "execution_count": 5,
   "metadata": {},
   "outputs": [
    {
     "output_type": "stream",
     "name": "stdout",
     "text": [
      "{'alpha': 10, 'bravo': 20}\n"
     ]
    }
   ],
   "source": [
    "keys = input().split()\n",
    "values = list(map(int, input().split()))\n",
    "i = 0\n",
    "while i < len(values) - 1 :\n",
    "    if values[i] == 30 :\n",
    "        del values[i]\n",
    "        del keys[i]\n",
    "    i += 1\n",
    "x = dict(zip(keys, values))\n",
    "x.pop(\"delta\")\n",
    "print(x)"
   ]
  }
 ]
}
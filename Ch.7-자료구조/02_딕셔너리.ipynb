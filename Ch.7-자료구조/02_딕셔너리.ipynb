{
 "metadata": {
  "language_info": {
   "codemirror_mode": {
    "name": "ipython",
    "version": 3
   },
   "file_extension": ".py",
   "mimetype": "text/x-python",
   "name": "python",
   "nbconvert_exporter": "python",
   "pygments_lexer": "ipython3",
   "version": "3.8.8"
  },
  "orig_nbformat": 2,
  "kernelspec": {
   "name": "python388jvsc74a57bd094be3c0045a496f1db0f6c0933821dfb1f75d678fefa7c30ef8ba447fd697bda",
   "display_name": "Python 3.8.8 64-bit ('base': conda)"
  },
  "metadata": {
   "interpreter": {
    "hash": "94be3c0045a496f1db0f6c0933821dfb1f75d678fefa7c30ef8ba447fd697bda"
   }
  }
 },
 "nbformat": 4,
 "nbformat_minor": 2,
 "cells": [
  {
   "source": [
    "# Dictinary"
   ],
   "cell_type": "markdown",
   "metadata": {}
  },
  {
   "source": [
    "1) 딕셔너리 만들기 (C)"
   ],
   "cell_type": "markdown",
   "metadata": {}
  },
  {
   "cell_type": "code",
   "execution_count": 1,
   "metadata": {},
   "outputs": [
    {
     "output_type": "execute_result",
     "data": {
      "text/plain": [
       "{'health': 490, 'mana': 334, 'melee': 550, 'armor': 18.72}"
      ]
     },
     "metadata": {},
     "execution_count": 1
    }
   ],
   "source": [
    "lux = {\"health\": 490, \"mana\": 334, \"melee\": 550, \"armor\": 18.72}\n",
    "lux"
   ]
  },
  {
   "cell_type": "code",
   "execution_count": 3,
   "metadata": {},
   "outputs": [
    {
     "output_type": "execute_result",
     "data": {
      "text/plain": [
       "{'health': 490, 'mana': 334, 'melee': 550, 'armor': 18.72}"
      ]
     },
     "metadata": {},
     "execution_count": 3
    }
   ],
   "source": [
    "lux1 = dict(health = 490, mana = 334, melee = 550, armor = 18.72)\n",
    "lux1"
   ]
  },
  {
   "cell_type": "code",
   "execution_count": 4,
   "metadata": {},
   "outputs": [
    {
     "output_type": "execute_result",
     "data": {
      "text/plain": [
       "{'health': 490, 'mana': 334, 'melee': 550, 'armor': 18.72}"
      ]
     },
     "metadata": {},
     "execution_count": 4
    }
   ],
   "source": [
    "lux2 = dict([(\"health\", 490), (\"mana\", 334), (\"melee\", 550), (\"armor\", 18.72)])\n",
    "lux2"
   ]
  },
  {
   "cell_type": "code",
   "execution_count": 6,
   "metadata": {},
   "outputs": [
    {
     "output_type": "execute_result",
     "data": {
      "text/plain": [
       "[(1, 'a'), (2, 'b'), (3, 'c')]"
      ]
     },
     "metadata": {},
     "execution_count": 6
    }
   ],
   "source": [
    "list(zip([1, 2, 3], [\"a\", \"b\", \"c\"]))   # zip | 각 리스트에서 요소를 뽑아 튜플 리스트로 생성"
   ]
  },
  {
   "cell_type": "code",
   "execution_count": 9,
   "metadata": {},
   "outputs": [
    {
     "output_type": "execute_result",
     "data": {
      "text/plain": [
       "[('health', 490), ('mana', 334), ('melee', 550), ('armor', 18.72)]"
      ]
     },
     "metadata": {},
     "execution_count": 9
    }
   ],
   "source": [
    "key_list = [\"health\", \"mana\", \"melee\", \"armor\"]\n",
    "value_list = [490, 334, 550, 18.72]\n",
    "list(zip(key_list, value_list))"
   ]
  },
  {
   "cell_type": "code",
   "execution_count": 10,
   "metadata": {},
   "outputs": [
    {
     "output_type": "execute_result",
     "data": {
      "text/plain": [
       "{'health': 490, 'mana': 334, 'melee': 550, 'armor': 18.72}"
      ]
     },
     "metadata": {},
     "execution_count": 10
    }
   ],
   "source": [
    "lux3 = dict(zip(key_list, value_list))\n",
    "lux3"
   ]
  },
  {
   "source": [
    "2) 딕셔너리 참조하기 (R)"
   ],
   "cell_type": "markdown",
   "metadata": {}
  },
  {
   "cell_type": "code",
   "execution_count": 11,
   "metadata": {},
   "outputs": [
    {
     "output_type": "execute_result",
     "data": {
      "text/plain": [
       "490"
      ]
     },
     "metadata": {},
     "execution_count": 11
    }
   ],
   "source": [
    "lux[\"health\"]"
   ]
  },
  {
   "source": [
    "3) 딕셔너리 값 변경하기 (U)"
   ],
   "cell_type": "markdown",
   "metadata": {}
  },
  {
   "cell_type": "code",
   "execution_count": 12,
   "metadata": {},
   "outputs": [
    {
     "output_type": "execute_result",
     "data": {
      "text/plain": [
       "{'health': 600, 'mana': 334, 'melee': 550, 'armor': 18.72}"
      ]
     },
     "metadata": {},
     "execution_count": 12
    }
   ],
   "source": [
    "lux[\"health\"] = 600\n",
    "lux"
   ]
  },
  {
   "cell_type": "code",
   "execution_count": 13,
   "metadata": {},
   "outputs": [
    {
     "output_type": "execute_result",
     "data": {
      "text/plain": [
       "{'health': 600, 'mana': 434, 'melee': 550, 'armor': 18.72}"
      ]
     },
     "metadata": {},
     "execution_count": 13
    }
   ],
   "source": [
    "lux[\"mana\"] += 100\n",
    "lux"
   ]
  },
  {
   "cell_type": "code",
   "execution_count": 14,
   "metadata": {},
   "outputs": [
    {
     "output_type": "execute_result",
     "data": {
      "text/plain": [
       "{'health': 600, 'mana': 434, 'melee': 550, 'armor': 18.72, 'mana_regen': 3.28}"
      ]
     },
     "metadata": {},
     "execution_count": 14
    }
   ],
   "source": [
    "lux[\"mana_regen\"] = 3.28\n",
    "lux"
   ]
  }
 ]
}
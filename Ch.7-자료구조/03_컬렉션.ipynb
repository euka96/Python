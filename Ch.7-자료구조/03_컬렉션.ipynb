{
 "metadata": {
  "language_info": {
   "codemirror_mode": {
    "name": "ipython",
    "version": 3
   },
   "file_extension": ".py",
   "mimetype": "text/x-python",
   "name": "python",
   "nbconvert_exporter": "python",
   "pygments_lexer": "ipython3",
   "version": "3.8.8"
  },
  "orig_nbformat": 2,
  "kernelspec": {
   "name": "python388jvsc74a57bd094be3c0045a496f1db0f6c0933821dfb1f75d678fefa7c30ef8ba447fd697bda",
   "display_name": "Python 3.8.8 64-bit ('base': conda)"
  },
  "metadata": {
   "interpreter": {
    "hash": "94be3c0045a496f1db0f6c0933821dfb1f75d678fefa7c30ef8ba447fd697bda"
   }
  }
 },
 "nbformat": 4,
 "nbformat_minor": 2,
 "cells": [
  {
   "source": [
    "# Collection"
   ],
   "cell_type": "markdown",
   "metadata": {}
  },
  {
   "source": [
    "1) deque module (stack and queue)"
   ],
   "cell_type": "markdown",
   "metadata": {}
  },
  {
   "cell_type": "code",
   "execution_count": 7,
   "metadata": {},
   "outputs": [
    {
     "output_type": "execute_result",
     "data": {
      "text/plain": [
       "deque([0, 1, 2, 3, 4])"
      ]
     },
     "metadata": {},
     "execution_count": 7
    }
   ],
   "source": [
    "from collections import deque\n",
    "stack = deque()\n",
    "for i in range(5) :\n",
    "    stack.append(i)\n",
    "stack"
   ]
  },
  {
   "cell_type": "code",
   "execution_count": 8,
   "metadata": {},
   "outputs": [
    {
     "output_type": "stream",
     "name": "stdout",
     "text": [
      "4\n3\n2\n1\n0\ndeque([])\n"
     ]
    }
   ],
   "source": [
    "for _ in range(len(stack)) :\n",
    "    print(stack.pop())\n",
    "print(stack)"
   ]
  },
  {
   "cell_type": "code",
   "execution_count": 12,
   "metadata": {},
   "outputs": [
    {
     "output_type": "execute_result",
     "data": {
      "text/plain": [
       "deque([4, 3, 2, 1, 0])"
      ]
     },
     "metadata": {},
     "execution_count": 12
    }
   ],
   "source": [
    "queue = deque()\n",
    "for i in range(5) :\n",
    "    queue.appendleft(i)\n",
    "queue"
   ]
  },
  {
   "cell_type": "code",
   "execution_count": 13,
   "metadata": {},
   "outputs": [
    {
     "output_type": "stream",
     "name": "stdout",
     "text": [
      "0\n1\n2\n3\n4\ndeque([])\n"
     ]
    }
   ],
   "source": [
    "for _ in range(len(queue)) :\n",
    "    print(queue.pop())\n",
    "print(queue)"
   ]
  },
  {
   "cell_type": "code",
   "execution_count": 14,
   "metadata": {},
   "outputs": [
    {
     "output_type": "execute_result",
     "data": {
      "text/plain": [
       "deque([0, 1, 2, 3, 4])"
      ]
     },
     "metadata": {},
     "execution_count": 14
    }
   ],
   "source": [
    "circular = deque()\n",
    "for i in range(5) :\n",
    "    circular.append(i)\n",
    "circular"
   ]
  },
  {
   "cell_type": "code",
   "execution_count": 15,
   "metadata": {},
   "outputs": [
    {
     "output_type": "execute_result",
     "data": {
      "text/plain": [
       "deque([4, 0, 1, 2, 3])"
      ]
     },
     "metadata": {},
     "execution_count": 15
    }
   ],
   "source": [
    "circular.rotate(1)  # 오른쪽으로 1칸씩 값을 이동\n",
    "circular"
   ]
  },
  {
   "source": [
    "2) Ordered Dict module"
   ],
   "cell_type": "markdown",
   "metadata": {}
  },
  {
   "cell_type": "code",
   "execution_count": 32,
   "metadata": {},
   "outputs": [
    {
     "output_type": "stream",
     "name": "stdout",
     "text": [
      "x 100\nk 200\ny 300\n"
     ]
    }
   ],
   "source": [
    "from collections import OrderedDict\n",
    "\n",
    "d = OrderedDict()\n",
    "d['x'] = 100\n",
    "d['k'] = 200\n",
    "d['y'] = 300\n",
    "for k, v in d.items() :\n",
    "    print(k, v)"
   ]
  },
  {
   "cell_type": "code",
   "execution_count": 17,
   "metadata": {},
   "outputs": [
    {
     "output_type": "stream",
     "name": "stdout",
     "text": [
      "x 100\nk 200\ny 300\n"
     ]
    }
   ],
   "source": [
    "gd = {}\n",
    "gd[\"x\"] = 100\n",
    "gd[\"k\"] = 200\n",
    "gd[\"y\"] = 300\n",
    "\n",
    "for k, v in gd.items() :\n",
    "    print(k, v)"
   ]
  },
  {
   "cell_type": "code",
   "execution_count": 34,
   "metadata": {},
   "outputs": [
    {
     "output_type": "stream",
     "name": "stdout",
     "text": [
      "k 200\nx 100\ny 300\n"
     ]
    }
   ],
   "source": [
    "def sort_by_key(t) :\n",
    "    return t[0]\n",
    "\n",
    "for k, v in OrderedDict(sorted(d.items(), key = sort_by_key)).items() :\n",
    "    print(k, v)"
   ]
  },
  {
   "source": [
    "3) Defaultdict module"
   ],
   "cell_type": "markdown",
   "metadata": {}
  },
  {
   "source": [
    "4) Counter module"
   ],
   "cell_type": "markdown",
   "metadata": {}
  },
  {
   "cell_type": "code",
   "execution_count": 35,
   "metadata": {},
   "outputs": [
    {
     "output_type": "execute_result",
     "data": {
      "text/plain": [
       "Counter({'w': 1,\n",
       "         'h': 2,\n",
       "         'a': 1,\n",
       "         't': 2,\n",
       "         'e': 1,\n",
       "         'f': 1,\n",
       "         'o': 1,\n",
       "         'r': 1,\n",
       "         'k': 1})"
      ]
     },
     "metadata": {},
     "execution_count": 35
    }
   ],
   "source": [
    "from collections import Counter\n",
    "\n",
    "text = list(\"whatthefork\")\n",
    "Counter(text)"
   ]
  },
  {
   "cell_type": "code",
   "execution_count": 36,
   "metadata": {},
   "outputs": [
    {
     "output_type": "execute_result",
     "data": {
      "text/plain": [
       "Counter({'A': 1,\n",
       "         'quick': 1,\n",
       "         'brown': 1,\n",
       "         'fox': 1,\n",
       "         'jumps': 1,\n",
       "         'over': 1,\n",
       "         'the': 1,\n",
       "         'lazy': 1,\n",
       "         'dog': 1})"
      ]
     },
     "metadata": {},
     "execution_count": 36
    }
   ],
   "source": [
    "text = \"A quick brown fox jumps over the lazy dog\"\n",
    "Counter(text.split())"
   ]
  },
  {
   "source": [
    "5) Namedtuple module"
   ],
   "cell_type": "markdown",
   "metadata": {}
  }
 ]
}
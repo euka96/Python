{
 "metadata": {
  "language_info": {
   "codemirror_mode": {
    "name": "ipython",
    "version": 3
   },
   "file_extension": ".py",
   "mimetype": "text/x-python",
   "name": "python",
   "nbconvert_exporter": "python",
   "pygments_lexer": "ipython3",
   "version": "3.8.8"
  },
  "orig_nbformat": 2,
  "kernelspec": {
   "name": "python388jvsc74a57bd094be3c0045a496f1db0f6c0933821dfb1f75d678fefa7c30ef8ba447fd697bda",
   "display_name": "Python 3.8.8 64-bit ('base': conda)"
  },
  "metadata": {
   "interpreter": {
    "hash": "94be3c0045a496f1db0f6c0933821dfb1f75d678fefa7c30ef8ba447fd697bda"
   }
  }
 },
 "nbformat": 4,
 "nbformat_minor": 2,
 "cells": [
  {
   "source": [
    "# Ch 5 . 함수\n",
    "\n",
    "01) 함수 기초"
   ],
   "cell_type": "markdown",
   "metadata": {}
  },
  {
   "cell_type": "code",
   "execution_count": 4,
   "metadata": {},
   "outputs": [
    {
     "output_type": "execute_result",
     "data": {
      "text/plain": [
       "80"
      ]
     },
     "metadata": {},
     "execution_count": 4
    }
   ],
   "source": [
    "def calculate_rectangle_area(x, y) :\n",
    "    return x * y\n",
    "\n",
    "calculate_rectangle_area(10, 8)"
   ]
  },
  {
   "cell_type": "code",
   "execution_count": 5,
   "metadata": {},
   "outputs": [
    {
     "output_type": "execute_result",
     "data": {
      "text/plain": [
       "314.1592653589793"
      ]
     },
     "metadata": {},
     "execution_count": 5
    }
   ],
   "source": [
    "def calculate_circle_area(radius) :\n",
    "    import math\n",
    "    return math.pi * radius * radius\n",
    "\n",
    "calculate_circle_area(10)"
   ]
  },
  {
   "cell_type": "code",
   "execution_count": 6,
   "metadata": {},
   "outputs": [
    {
     "output_type": "stream",
     "name": "stdout",
     "text": [
      "반지름이 10인 원의 넗이는 314.15927 입니다.\n"
     ]
    }
   ],
   "source": [
    "r = 10\n",
    "area = calculate_circle_area(r)\n",
    "print(f\"반지름이 {r}인 원의 넗이는 {area:.5f} 입니다.\")"
   ]
  },
  {
   "cell_type": "code",
   "execution_count": 7,
   "metadata": {},
   "outputs": [
    {
     "output_type": "execute_result",
     "data": {
      "text/plain": [
       "True"
      ]
     },
     "metadata": {},
     "execution_count": 7
    }
   ],
   "source": [
    "def is_palindrome(number) :\n",
    "    s = str(number)\n",
    "    return s == s[::-1]\n",
    "\n",
    "is_palindrome(12321)"
   ]
  },
  {
   "cell_type": "code",
   "execution_count": 8,
   "metadata": {},
   "outputs": [
    {
     "output_type": "execute_result",
     "data": {
      "text/plain": [
       "(True, False)"
      ]
     },
     "metadata": {},
     "execution_count": 8
    }
   ],
   "source": [
    "def is_palindrome(s) :\n",
    "    return s == s[::-1]\n",
    "\n",
    "is_palindrome(str(12321)), is_palindrome(str(45645))"
   ]
  },
  {
   "cell_type": "code",
   "execution_count": 9,
   "metadata": {},
   "outputs": [
    {
     "output_type": "execute_result",
     "data": {
      "text/plain": [
       "(True, True)"
      ]
     },
     "metadata": {},
     "execution_count": 9
    }
   ],
   "source": [
    "is_palindrome('madam'), is_palindrome('소주 만병만 주소')"
   ]
  },
  {
   "source": [
    "02) 함수 심화"
   ],
   "cell_type": "markdown",
   "metadata": {}
  },
  {
   "cell_type": "code",
   "execution_count": 13,
   "metadata": {},
   "outputs": [
    {
     "output_type": "stream",
     "name": "stdout",
     "text": [
      "I Love London!\nJ'aime Paris!\n"
     ]
    }
   ],
   "source": [
    "def f() :\n",
    "    s = 'I love London!'\n",
    "    print(s)\n",
    "\n",
    "s = \"J'aime Paris!\"\n",
    "f()\n",
    "print(s)"
   ]
  },
  {
   "cell_type": "code",
   "execution_count": 15,
   "metadata": {},
   "outputs": [
    {
     "output_type": "stream",
     "name": "stdout",
     "text": [
      "J'aime Paris!\nJ'aime Paris!\n"
     ]
    }
   ],
   "source": [
    "def f() :\n",
    "    print(s)\n",
    "\n",
    "s = \"J'aime Paris!\"\n",
    "f()\n",
    "print(s)"
   ]
  },
  {
   "cell_type": "code",
   "execution_count": 16,
   "metadata": {},
   "outputs": [
    {
     "output_type": "stream",
     "name": "stdout",
     "text": [
      "I love London!\nI love London!\n"
     ]
    }
   ],
   "source": [
    "def f() :\n",
    "    global s    # local 변수 s를 global 변수로 고정 | def s가 def 밖에서도 영향을 미침\n",
    "    s = 'I love London!'\n",
    "    print(s)\n",
    "\n",
    "s = \"J'aime Paris!\"\n",
    "f()\n",
    "print(s)"
   ]
  },
  {
   "cell_type": "code",
   "execution_count": null,
   "metadata": {},
   "outputs": [],
   "source": [
    "03) 재귀함수 recursive call"
   ]
  },
  {
   "cell_type": "code",
   "execution_count": 19,
   "metadata": {},
   "outputs": [
    {
     "output_type": "execute_result",
     "data": {
      "text/plain": [
       "120"
      ]
     },
     "metadata": {},
     "execution_count": 19
    }
   ],
   "source": [
    "def factorial(n) :\n",
    "    if n == 0 :\n",
    "        return 1\n",
    "    return n * factorial(n - 1)\n",
    "\n",
    "factorial(5)"
   ]
  },
  {
   "cell_type": "code",
   "execution_count": 25,
   "metadata": {},
   "outputs": [
    {
     "output_type": "stream",
     "name": "stdout",
     "text": [
      "fibonacci(1) = 1\nfibonacci(2) = 1\nfibonacci(3) = 2\nfibonacci(4) = 3\nfibonacci(5) = 5\nfibonacci(6) = 8\nfibonacci(7) = 13\nfibonacci(8) = 21\nfibonacci(9) = 34\nfibonacci(10) = 55\n"
     ]
    }
   ],
   "source": [
    "def fibonacci(n) :\n",
    "    if n == 1 or n == 2 :\n",
    "        return 1\n",
    "    return fibonacci(n - 1) + fibonacci(n - 2)\n",
    "\n",
    "for i in range(1 , int(input()) + 1) :\n",
    "    print(f\"fibonacci({i}) = {fibonacci(i)}\")"
   ]
  },
  {
   "cell_type": "code",
   "execution_count": 29,
   "metadata": {},
   "outputs": [
    {
     "output_type": "stream",
     "name": "stdout",
     "text": [
      "면적 = 314.16, 둘레 = 62.83\n"
     ]
    }
   ],
   "source": [
    "# 리턴값이 여러개인 경우\n",
    "def about_circle(radius) :\n",
    "    import math\n",
    "    return math.pi * radius **2, 2 * math.pi * radius\n",
    "\n",
    "area, circumference = about_circle(10)\n",
    "print(f\"면적 = {area:.2f}, 둘레 = {circumference:.2f}\")"
   ]
  },
  {
   "cell_type": "code",
   "execution_count": 30,
   "metadata": {},
   "outputs": [
    {
     "output_type": "stream",
     "name": "stdout",
     "text": [
      "반지름이 5일 때 둘레는 31.42입니다.\n"
     ]
    }
   ],
   "source": [
    "_, circumference = about_circle(5)\n",
    "print(f\"반지름이 5일 때 둘레는 {circumference:.2f}입니다.\")"
   ]
  }
 ]
}
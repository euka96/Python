{
 "metadata": {
  "language_info": {
   "codemirror_mode": {
    "name": "ipython",
    "version": 3
   },
   "file_extension": ".py",
   "mimetype": "text/x-python",
   "name": "python",
   "nbconvert_exporter": "python",
   "pygments_lexer": "ipython3",
   "version": "3.8.8"
  },
  "orig_nbformat": 2,
  "kernelspec": {
   "name": "python388jvsc74a57bd094be3c0045a496f1db0f6c0933821dfb1f75d678fefa7c30ef8ba447fd697bda",
   "display_name": "Python 3.8.8 64-bit ('base': conda)"
  },
  "metadata": {
   "interpreter": {
    "hash": "94be3c0045a496f1db0f6c0933821dfb1f75d678fefa7c30ef8ba447fd697bda"
   }
  }
 },
 "nbformat": 4,
 "nbformat_minor": 2,
 "cells": [
  {
   "source": [
    "# Ch. 6 문자열\n",
    "1. 문자열의 이해"
   ],
   "cell_type": "markdown",
   "metadata": {}
  },
  {
   "source": [
    "- 시퀀스 자료형"
   ],
   "cell_type": "markdown",
   "metadata": {}
  },
  {
   "cell_type": "code",
   "execution_count": 1,
   "metadata": {},
   "outputs": [
    {
     "output_type": "execute_result",
     "data": {
      "text/plain": [
       "5"
      ]
     },
     "metadata": {},
     "execution_count": 1
    }
   ],
   "source": [
    "string = \"Hello\"\n",
    "len(string)"
   ]
  },
  {
   "source": [
    "string = \"안녕하세요\"\n",
    "print(len(string))\n",
    "print(string[:2], string[2:])"
   ],
   "cell_type": "code",
   "metadata": {},
   "execution_count": 5,
   "outputs": [
    {
     "output_type": "stream",
     "name": "stdout",
     "text": [
      "5\n안녕 하세요\n"
     ]
    }
   ]
  },
  {
   "cell_type": "code",
   "execution_count": 9,
   "metadata": {},
   "outputs": [
    {
     "output_type": "stream",
     "name": "stdout",
     "text": [
      "안녕안녕 하세요하세요\n안녕안녕   하세요하세요\n"
     ]
    }
   ],
   "source": [
    "first = string[:2]\n",
    "last = string[2:]\n",
    "print(first * 2 + \" \" + last * 2)\n",
    "print(first * 2, \" \", last * 2)"
   ]
  },
  {
   "source": [
    "- 문자열의 Method"
   ],
   "cell_type": "markdown",
   "metadata": {}
  },
  {
   "cell_type": "code",
   "execution_count": 13,
   "metadata": {},
   "outputs": [
    {
     "output_type": "stream",
     "name": "stdout",
     "text": [
      "a quick brown fox jumps over the lazy dog.\nA QUICK BROWN FOX JUMPS OVER THE LAZY DOG.\nA Quick Brown Fox Jumps Over The Lazy Dog.\nA quick brown fox jumps over the lazy dog.\n"
     ]
    }
   ],
   "source": [
    "text = \"A quick brown fox jumps over the lazy dog.\"\n",
    "print(text.lower()) # 소문자로 변환\n",
    "print(text.upper()) # 대문자로 변환\n",
    "print(text.title()) # 단어의 첫 글자를 대문자로 변환\n",
    "print(text.capitalize()) # 문장의 첫 글자를 대문자로 변환"
   ]
  },
  {
   "cell_type": "code",
   "execution_count": 14,
   "metadata": {},
   "outputs": [
    {
     "output_type": "execute_result",
     "data": {
      "text/plain": [
       "'A quick brown fox jumps over the lazy dog.'"
      ]
     },
     "metadata": {},
     "execution_count": 14
    }
   ],
   "source": [
    "text.lower().capitalize() # method를 여러개 한번에 사용 가능"
   ]
  },
  {
   "cell_type": "code",
   "execution_count": 19,
   "metadata": {},
   "outputs": [
    {
     "output_type": "stream",
     "name": "stdout",
     "text": [
      "1\nFalse\n"
     ]
    },
    {
     "output_type": "execute_result",
     "data": {
      "text/plain": [
       "True"
      ]
     },
     "metadata": {},
     "execution_count": 19
    }
   ],
   "source": [
    "print(text.count(\"x\")) # ()안의 문자가 몇개 있는지 카운트\n",
    "print(text.isdigit()) # str이 숫자인지 여부를 알려줌\n",
    "\"123\".isdigit()"
   ]
  },
  {
   "cell_type": "code",
   "execution_count": 26,
   "metadata": {},
   "outputs": [
    {
     "output_type": "stream",
     "name": "stdout",
     "text": [
      "False\nTrue\n14\n14\n"
     ]
    }
   ],
   "source": [
    "print(text.startswith(\"The\"))  # 시작 단어 일치 여부\n",
    "print(text.endswith(\".\"))   # 마지막 단어 일치 여부\n",
    "print(text.find(\"fox\")) # 단어의 위치를 알려줌\n",
    "print(text.rfind(\"fox\"))"
   ]
  },
  {
   "cell_type": "code",
   "execution_count": 29,
   "metadata": {},
   "outputs": [
    {
     "output_type": "stream",
     "name": "stdout",
     "text": [
      "white\nwhite   \n   white\n"
     ]
    }
   ],
   "source": [
    "print(\"   white   \".strip())   # 좌우 공백 제거\n",
    "print(\"   white   \".lstrip())   # 왼쪽 공백 제거\n",
    "print(\"   white   \".rstrip())   # 오른쪽 공백 제거"
   ]
  },
  {
   "cell_type": "code",
   "execution_count": 30,
   "metadata": {},
   "outputs": [
    {
     "output_type": "execute_result",
     "data": {
      "text/plain": [
       "['A', 'quick', 'brown', 'fox', 'jumps', 'over', 'the', 'lazy', 'dog.']"
      ]
     },
     "metadata": {},
     "execution_count": 30
    }
   ],
   "source": [
    "new_text = \"     \" + text + \"    \"\n",
    "new_text.split()"
   ]
  },
  {
   "source": [
    "- 여러줄의 문자열"
   ],
   "cell_type": "markdown",
   "metadata": {}
  },
  {
   "cell_type": "code",
   "execution_count": 2,
   "metadata": {},
   "outputs": [
    {
     "output_type": "stream",
     "name": "stdout",
     "text": [
      "\n안녕하세요\nHello\nBonjour\nHola\nGuten tag\n\n"
     ]
    },
    {
     "output_type": "execute_result",
     "data": {
      "text/plain": [
       "str"
      ]
     },
     "metadata": {},
     "execution_count": 2
    }
   ],
   "source": [
    "multi_line = \"\"\"    # shift + alt + a -> block comment 처리\n",
    "안녕하세요\n",
    "Hello\n",
    "Bonjour\n",
    "Hola\n",
    "Guten tag\n",
    "\"\"\"\n",
    "print(multi_line)\n",
    "type(multi_line)"
   ]
  },
  {
   "cell_type": "code",
   "execution_count": 4,
   "metadata": {},
   "outputs": [
    {
     "output_type": "error",
     "ename": "TypeError",
     "evalue": "sample() missing 2 required positional arguments: 'x' and 'y'",
     "traceback": [
      "\u001b[0;31m---------------------------------------------------------------------------\u001b[0m",
      "\u001b[0;31mTypeError\u001b[0m                                 Traceback (most recent call last)",
      "\u001b[0;32m<ipython-input-4-ace24bc0c098>\u001b[0m in \u001b[0;36m<module>\u001b[0;34m\u001b[0m\n\u001b[1;32m      5\u001b[0m     \u001b[0;32mreturn\u001b[0m \u001b[0mx\u001b[0m \u001b[0;34m*\u001b[0m \u001b[0my\u001b[0m\u001b[0;34m\u001b[0m\u001b[0;34m\u001b[0m\u001b[0m\n\u001b[1;32m      6\u001b[0m \u001b[0;34m\u001b[0m\u001b[0m\n\u001b[0;32m----> 7\u001b[0;31m \u001b[0msample\u001b[0m\u001b[0;34m(\u001b[0m\u001b[0;34m)\u001b[0m\u001b[0;34m\u001b[0m\u001b[0;34m\u001b[0m\u001b[0m\n\u001b[0m",
      "\u001b[0;31mTypeError\u001b[0m: sample() missing 2 required positional arguments: 'x' and 'y'"
     ]
    }
   ],
   "source": [
    "def sample(x, y) :\n",
    "    \"\"\"\n",
    "    Write down a manual of the function in this place\n",
    "    \"\"\"\n",
    "    return x * y\n",
    "\n",
    "sample()"
   ]
  },
  {
   "cell_type": "code",
   "execution_count": null,
   "metadata": {},
   "outputs": [],
   "source": []
  }
 ]
}
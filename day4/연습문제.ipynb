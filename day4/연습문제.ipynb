{
 "metadata": {
  "language_info": {
   "codemirror_mode": {
    "name": "ipython",
    "version": 3
   },
   "file_extension": ".py",
   "mimetype": "text/x-python",
   "name": "python",
   "nbconvert_exporter": "python",
   "pygments_lexer": "ipython3",
   "version": "3.8.8"
  },
  "orig_nbformat": 2,
  "kernelspec": {
   "name": "python388jvsc74a57bd094be3c0045a496f1db0f6c0933821dfb1f75d678fefa7c30ef8ba447fd697bda",
   "display_name": "Python 3.8.8 64-bit ('base': conda)"
  },
  "metadata": {
   "interpreter": {
    "hash": "94be3c0045a496f1db0f6c0933821dfb1f75d678fefa7c30ef8ba447fd697bda"
   }
  }
 },
 "nbformat": 4,
 "nbformat_minor": 2,
 "cells": [
  {
   "cell_type": "code",
   "execution_count": null,
   "metadata": {},
   "outputs": [],
   "source": [
    "1. 3x3 biggest palindrome"
   ]
  },
  {
   "cell_type": "code",
   "execution_count": 14,
   "metadata": {
    "tags": []
   },
   "outputs": [
    {
     "output_type": "stream",
     "name": "stdout",
     "text": [
      "995 583\n"
     ]
    }
   ],
   "source": [
    "def is_palindrome(number) :\n",
    "    s = str(number)\n",
    "    return s == s[::-1]\n",
    "num = []\n",
    "a = range(101, 1000)\n",
    "b = range(101, 1000)\n",
    "for i in a :\n",
    "    for j in b :\n",
    "        answer = is_palindrome(i * j)\n",
    "        if answer == True:\n",
    "            num.append(i)\n",
    "            num.append(j)\n",
    "print(num[-2], num[-1])"
   ]
  },
  {
   "source": [
    "2. 사칙 연산"
   ],
   "cell_type": "markdown",
   "metadata": {}
  },
  {
   "cell_type": "code",
   "execution_count": 32,
   "metadata": {},
   "outputs": [
    {
     "output_type": "stream",
     "name": "stdout",
     "text": [
      "덧셈: 48, 뺄셈: 32, 곱셈: 320, 나눗셈: 5.0\n"
     ]
    }
   ],
   "source": [
    "x, y = map(int, input().split())\n",
    "def calc(x, y) :\n",
    "    return x + y, x - y, x * y, x / y\n",
    "\n",
    "a, s, m, d = calc(x, y)\n",
    "print(\"덧셈: {0}, 뺄셈: {1}, 곱셈: {2}, 나눗셈: {3}\".format(a, s, m, d))"
   ]
  },
  {
   "source": [
    "3. 가장 높은 점수"
   ],
   "cell_type": "markdown",
   "metadata": {}
  },
  {
   "cell_type": "code",
   "execution_count": 48,
   "metadata": {},
   "outputs": [
    {
     "output_type": "stream",
     "name": "stdout",
     "text": [
      "낮은 점수: 76.00, 높은 점수: 89.00, 평균 점수: 82.75\n낮은 점수: 82.00, 높은 점수: 84.00, 평균 점수: 83.00\n"
     ]
    }
   ],
   "source": [
    "korean, english, mathematics, science = map(int, input().split())\n",
    "def get_min_max_score(*args) :\n",
    "    return min(*args), max(*args)\n",
    "def get_average(**kwargs) :\n",
    "    return sum(kwargs.values())/len(kwargs)\n",
    "\n",
    "min_score, max_score = get_min_max_score(korean, english, mathematics, science)\n",
    "average_score = get_average(korean = korean, english = english, mathematics = mathematics, science = science)\n",
    "print(\"낮은 점수: {0:.2f}, 높은 점수: {1:.2f}, 평균 점수: {2:.2f}\".format(min_score, max_score, average_score))\n",
    "\n",
    "min_score, max_score = get_min_max_score(english, science)\n",
    "average_score = get_average(english = english, science = science)\n",
    "print(\"낮은 점수: {0:.2f}, 높은 점수: {1:.2f}, 평균 점수: {2:.2f}\".format(min_score, max_score, average_score))"
   ]
  }
 ]
}
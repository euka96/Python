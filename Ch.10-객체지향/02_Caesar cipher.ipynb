{
 "metadata": {
  "language_info": {
   "codemirror_mode": {
    "name": "ipython",
    "version": 3
   },
   "file_extension": ".py",
   "mimetype": "text/x-python",
   "name": "python",
   "nbconvert_exporter": "python",
   "pygments_lexer": "ipython3",
   "version": "3.8.8"
  },
  "orig_nbformat": 2,
  "kernelspec": {
   "name": "python388jvsc74a57bd094be3c0045a496f1db0f6c0933821dfb1f75d678fefa7c30ef8ba447fd697bda",
   "display_name": "Python 3.8.8 64-bit ('base': conda)"
  },
  "metadata": {
   "interpreter": {
    "hash": "94be3c0045a496f1db0f6c0933821dfb1f75d678fefa7c30ef8ba447fd697bda"
   }
  }
 },
 "nbformat": 4,
 "nbformat_minor": 2,
 "cells": [
  {
   "source": [
    "Caesar cipher 클래스로 작성"
   ],
   "cell_type": "markdown",
   "metadata": {}
  },
  {
   "cell_type": "code",
   "execution_count": 6,
   "metadata": {},
   "outputs": [],
   "source": [
    "class Caesar :\n",
    "    def encode(self, plain, n) :\n",
    "        cipher = \"\"\n",
    "        for c in plain :\n",
    "            diff = ord(c) - ord(\"A\") + n\n",
    "            if diff >= 26 :\n",
    "                cipher += chr(ord(\"A\") + diff % 26)\n",
    "            else : \n",
    "                cipher += chr(ord(c) + n)\n",
    "        return cipher\n",
    "\n",
    "    def decode(self, cipher, n) :\n",
    "        plain = \"\"\n",
    "        for c in cipher :\n",
    "            diff = ord(c) - ord(\"A\") - n\n",
    "            if diff < 0 :\n",
    "                plain += chr(ord(\"Z\") + diff + 1 )\n",
    "            else : \n",
    "                plain += chr(ord(c) - n)\n",
    "        return plain"
   ]
  },
  {
   "cell_type": "code",
   "execution_count": 7,
   "metadata": {},
   "outputs": [
    {
     "output_type": "execute_result",
     "data": {
      "text/plain": [
       "'DEFABC'"
      ]
     },
     "metadata": {},
     "execution_count": 7
    }
   ],
   "source": [
    "caesar = Caesar()\n",
    "caesar.encode('ABCXYZ', 3)"
   ]
  },
  {
   "cell_type": "code",
   "execution_count": 8,
   "metadata": {},
   "outputs": [
    {
     "output_type": "execute_result",
     "data": {
      "text/plain": [
       "'ABCXYZ'"
      ]
     },
     "metadata": {},
     "execution_count": 8
    }
   ],
   "source": [
    "caesar.decode('DEFABC', 3)"
   ]
  }
 ]
}
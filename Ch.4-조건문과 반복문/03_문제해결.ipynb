{
 "metadata": {
  "language_info": {
   "codemirror_mode": {
    "name": "ipython",
    "version": 3
   },
   "file_extension": ".py",
   "mimetype": "text/x-python",
   "name": "python",
   "nbconvert_exporter": "python",
   "pygments_lexer": "ipython3",
   "version": "3.8.8"
  },
  "orig_nbformat": 2,
  "kernelspec": {
   "name": "python388jvsc74a57bd094be3c0045a496f1db0f6c0933821dfb1f75d678fefa7c30ef8ba447fd697bda",
   "display_name": "Python 3.8.8 64-bit ('base': conda)"
  },
  "metadata": {
   "interpreter": {
    "hash": "94be3c0045a496f1db0f6c0933821dfb1f75d678fefa7c30ef8ba447fd697bda"
   }
  }
 },
 "nbformat": 4,
 "nbformat_minor": 2,
 "cells": [
  {
   "source": [
    "1. 구구단 계산기"
   ],
   "cell_type": "markdown",
   "metadata": {}
  },
  {
   "cell_type": "code",
   "execution_count": 1,
   "metadata": {},
   "outputs": [
    {
     "output_type": "stream",
     "name": "stdout",
     "text": [
      "1 X 1 = 1\n1 X 2 = 2\n1 X 3 = 3\n1 X 4 = 4\n1 X 5 = 5\n1 X 6 = 6\n1 X 7 = 7\n1 X 8 = 8\n1 X 9 = 9\n2 X 1 = 2\n2 X 2 = 4\n2 X 3 = 6\n2 X 4 = 8\n2 X 5 = 10\n2 X 6 = 12\n2 X 7 = 14\n2 X 8 = 16\n2 X 9 = 18\n3 X 1 = 3\n3 X 2 = 6\n3 X 3 = 9\n3 X 4 = 12\n3 X 5 = 15\n3 X 6 = 18\n3 X 7 = 21\n3 X 8 = 24\n3 X 9 = 27\n4 X 1 = 4\n4 X 2 = 8\n4 X 3 = 12\n4 X 4 = 16\n4 X 5 = 20\n4 X 6 = 24\n4 X 7 = 28\n4 X 8 = 32\n4 X 9 = 36\n5 X 1 = 5\n5 X 2 = 10\n5 X 3 = 15\n5 X 4 = 20\n5 X 5 = 25\n5 X 6 = 30\n5 X 7 = 35\n5 X 8 = 40\n5 X 9 = 45\n6 X 1 = 6\n6 X 2 = 12\n6 X 3 = 18\n6 X 4 = 24\n6 X 5 = 30\n6 X 6 = 36\n6 X 7 = 42\n6 X 8 = 48\n6 X 9 = 54\n7 X 1 = 7\n7 X 2 = 14\n7 X 3 = 21\n7 X 4 = 28\n7 X 5 = 35\n7 X 6 = 42\n7 X 7 = 49\n7 X 8 = 56\n7 X 9 = 63\n8 X 1 = 8\n8 X 2 = 16\n8 X 3 = 24\n8 X 4 = 32\n8 X 5 = 40\n8 X 6 = 48\n8 X 7 = 56\n8 X 8 = 64\n8 X 9 = 72\n9 X 1 = 9\n9 X 2 = 18\n9 X 3 = 27\n9 X 4 = 36\n9 X 5 = 45\n9 X 6 = 54\n9 X 7 = 63\n9 X 8 = 72\n9 X 9 = 81\n"
     ]
    }
   ],
   "source": [
    "for i in range(1, 10) :\n",
    "    for j in range(1, 10) :\n",
    "        print(f\"{i} X {j} = {i * j}\")"
   ]
  },
  {
   "source": [
    "2. 문자열 역순 출력"
   ],
   "cell_type": "markdown",
   "metadata": {}
  },
  {
   "cell_type": "code",
   "execution_count": 13,
   "metadata": {},
   "outputs": [
    {
     "output_type": "stream",
     "name": "stdout",
     "text": [
      "Je t'aime emia't eJ\n"
     ]
    }
   ],
   "source": [
    "sentence = input()\n",
    "rev_sentence = \"\"\n",
    "for char in sentence :\n",
    "    rev_sentence = char + rev_sentence\n",
    "print(sentence, rev_sentence)"
   ]
  },
  {
   "source": [
    "3. 십진수를 이진수로 변환"
   ],
   "cell_type": "markdown",
   "metadata": {}
  },
  {
   "cell_type": "code",
   "execution_count": 3,
   "metadata": {},
   "outputs": [
    {
     "output_type": "stream",
     "name": "stdout",
     "text": [
      "1000\n"
     ]
    }
   ],
   "source": [
    "# 십진수 숫자를 2로 계속 나눈 후, 역순으로 출력\n",
    "num = int(input())\n",
    "result = \"\"\n",
    "while num > 0 :\n",
    "    rest = num % 2\n",
    "    num = num // 2\n",
    "    result = str(rest) + result\n",
    "print(result)"
   ]
  },
  {
   "source": [
    "4. 숫자 찾기 게임"
   ],
   "cell_type": "markdown",
   "metadata": {}
  },
  {
   "cell_type": "code",
   "execution_count": 15,
   "metadata": {},
   "outputs": [
    {
     "output_type": "stream",
     "name": "stdout",
     "text": [
      "88\n",
      "Wrong! Try bigger number than 50\n",
      "Wrong! Try bigger number than 80\n",
      "Wrong! Try smaller number than 90\n",
      "Wrong! Try bigger number than 85\n",
      "Wrong! Try bigger number than 87\n",
      "Wrong! Try smaller number than 89\n",
      "Wrong! Try smaller number than 90\n",
      "Wrong! Try smaller number than 96\n",
      "Wrong! Try bigger number than 86\n",
      "Correct! The answer is 88\n"
     ]
    }
   ],
   "source": [
    "import random\n",
    "answer = random.randint(1, 100)\n",
    "num = int(input(\"Guess a number, 1 to 100\"))\n",
    "while num != answer :\n",
    "    if num > answer :\n",
    "        print(f\"Wrong! Try smaller number than {num}\")\n",
    "        num = int(input())\n",
    "    else :\n",
    "        print(f\"Wrong! Try bigger number than {num}\")\n",
    "        num = int(input())\n",
    "print(f\"Correct! The answer is {num}\")"
   ]
  },
  {
   "cell_type": "code",
   "execution_count": null,
   "metadata": {},
   "outputs": [],
   "source": []
  },
  {
   "cell_type": "code",
   "execution_count": 1,
   "metadata": {},
   "outputs": [
    {
     "output_type": "stream",
     "name": "stdout",
     "text": [
      "Wrong! Try smaller number than 50\n",
      "Wrong! Try bigger number than 30\n",
      "Wrong! Try smaller number than 40\n",
      "Wrong! Try smaller number than 35\n",
      "Wrong! Try bigger number than 33\n",
      "Correct! The answer is 34\n"
     ]
    }
   ],
   "source": [
    "import random\n",
    "answer = random.randint(1, 100)\n",
    "while True :\n",
    "    num = int(input(\"Guess a number, 1 to 100\"))\n",
    "    if num > answer :\n",
    "        print(f\"Wrong! Try smaller number than {num}\")\n",
    "    elif num < answer:\n",
    "        print(f\"Wrong! Try bigger number than {num}\")\n",
    "    else :\n",
    "        print(f\"Correct! The answer is {num}\")\n",
    "        break"
   ]
  },
  {
   "source": [
    "5. 별 그리기"
   ],
   "cell_type": "markdown",
   "metadata": {}
  },
  {
   "cell_type": "code",
   "execution_count": 2,
   "metadata": {
    "tags": []
   },
   "outputs": [
    {
     "output_type": "stream",
     "name": "stdout",
     "text": [
      "\n*\n**\n***\n****\n*****\n******\n*******\n"
     ]
    }
   ],
   "source": [
    "num = int(input(\"Twinkle twinkle, How many little stars\"))\n",
    "i = 0\n",
    "while i <= num :\n",
    "    print(\"*\" * i)\n",
    "    i += 1"
   ]
  },
  {
   "cell_type": "code",
   "execution_count": 17,
   "metadata": {},
   "outputs": [
    {
     "output_type": "stream",
     "name": "stdout",
     "text": [
      " *****\n  ****\n   ***\n    **\n     *\n      \n"
     ]
    }
   ],
   "source": [
    "# 5 - 2 거꾸로 별그리기\n",
    "num = int(input(\"Twinkle twinkle, How many little stars\"))\n",
    "i = 0\n",
    "while i <= num :\n",
    "    print(\" \" * i , \"*\" * (num - i))\n",
    "    i += 1"
   ]
  }
 ]
}
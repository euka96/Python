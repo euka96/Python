{
 "metadata": {
  "language_info": {
   "codemirror_mode": {
    "name": "ipython",
    "version": 3
   },
   "file_extension": ".py",
   "mimetype": "text/x-python",
   "name": "python",
   "nbconvert_exporter": "python",
   "pygments_lexer": "ipython3",
   "version": "3.8.8"
  },
  "orig_nbformat": 2,
  "kernelspec": {
   "name": "python388jvsc74a57bd094be3c0045a496f1db0f6c0933821dfb1f75d678fefa7c30ef8ba447fd697bda",
   "display_name": "Python 3.8.8 64-bit ('base': conda)"
  },
  "metadata": {
   "interpreter": {
    "hash": "94be3c0045a496f1db0f6c0933821dfb1f75d678fefa7c30ef8ba447fd697bda"
   }
  }
 },
 "nbformat": 4,
 "nbformat_minor": 2,
 "cells": [
  {
   "source": [
    "# Ch. 11 모듈과 패키지"
   ],
   "cell_type": "markdown",
   "metadata": {}
  },
  {
   "source": [
    "### 1) Module Creating"
   ],
   "cell_type": "markdown",
   "metadata": {}
  },
  {
   "cell_type": "code",
   "execution_count": 5,
   "metadata": {},
   "outputs": [
    {
     "output_type": "stream",
     "name": "stdout",
     "text": [
      "Celcius : 15.1, Fahrenheit : 59.2\n"
     ]
    }
   ],
   "source": [
    "def convert_ctof(celcius_value) :\n",
    "    return celcius_value * 9. / 5 + 32\n",
    "\n",
    "celcius = float(input())\n",
    "fahrenheit = convert_ctof(celcius)\n",
    "print(f'Celcius : {celcius:.1f}, Fahrenheit : {fahrenheit:.1f}')"
   ]
  },
  {
   "cell_type": "code",
   "execution_count": 7,
   "metadata": {},
   "outputs": [
    {
     "output_type": "stream",
     "name": "stdout",
     "text": [
      "Celcius : 17.0, Fahrenheit : 62.6\n"
     ]
    }
   ],
   "source": [
    "import module1 as m1\n",
    "celcius = float(input())\n",
    "fahrenheit = module1.convert_ctof_m(celcius)\n",
    "print(f'Celcius : {celcius:.1f}, Fahrenheit : {fahrenheit:.1f}')"
   ]
  },
  {
   "cell_type": "code",
   "execution_count": 10,
   "metadata": {},
   "outputs": [
    {
     "output_type": "stream",
     "name": "stdout",
     "text": [
      "Celcius : 19.0, Fahrenheit : 66.2\n"
     ]
    }
   ],
   "source": [
    "import module1 as m1    # as = alias | 이름 변경\n",
    "celcius = float(input())\n",
    "fahrenheit = m1.convert_ctof_m(celcius)\n",
    "print(f'Celcius : {celcius:.1f}, Fahrenheit : {fahrenheit:.1f}')"
   ]
  },
  {
   "cell_type": "code",
   "execution_count": 11,
   "metadata": {},
   "outputs": [
    {
     "output_type": "stream",
     "name": "stdout",
     "text": [
      "Celcius : 21.0, Fahrenheit : 69.8\n"
     ]
    }
   ],
   "source": [
    "from module1 import convert_ctof_m\n",
    "celcius = float(input())\n",
    "fahrenheit = convert_ctof_m(celcius)\n",
    "print(f'Celcius : {celcius:.1f}, Fahrenheit : {fahrenheit:.1f}')"
   ]
  },
  {
   "cell_type": "code",
   "execution_count": 2,
   "metadata": {},
   "outputs": [
    {
     "output_type": "stream",
     "name": "stdout",
     "text": [
      "Fahrenheit : 100.0, Celcius : 37.8\n"
     ]
    }
   ],
   "source": [
    "from module1 import *   # * 전부\n",
    "fahrenheit = float(input())\n",
    "celcius = convert_ftoc_m(fahrenheit)\n",
    "print(f'Fahrenheit : {fahrenheit:.1f}, Celcius : {celcius:.1f}')"
   ]
  },
  {
   "cell_type": "code",
   "execution_count": 4,
   "metadata": {},
   "outputs": [
    {
     "output_type": "execute_result",
     "data": {
      "text/plain": [
       "37.77777777777778"
      ]
     },
     "metadata": {},
     "execution_count": 4
    }
   ],
   "source": [
    "import module.module1 as mm1    # 폴더명.파일이름 식으로 사용 가능\n",
    "mm1.convert_ftoc_m(100.)"
   ]
  },
  {
   "source": [
    "### 2) 내장 모듈"
   ],
   "cell_type": "markdown",
   "metadata": {}
  },
  {
   "cell_type": "code",
   "execution_count": 1,
   "metadata": {},
   "outputs": [
    {
     "output_type": "execute_result",
     "data": {
      "text/plain": [
       "(0.8363375023320742, 180)"
      ]
     },
     "metadata": {},
     "execution_count": 1
    }
   ],
   "source": [
    "import random\n",
    "random.seed(2021)   # seed를 2021로 고정\n",
    "random.random(), random.randint(100, 200)"
   ]
  }
 ]
}